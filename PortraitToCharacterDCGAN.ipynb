{
  "nbformat": 4,
  "nbformat_minor": 0,
  "metadata": {
    "colab": {
      "provenance": [],
      "gpuType": "T4",
      "authorship_tag": "ABX9TyOp5cKqSUghUhWoD98u8M8G",
      "include_colab_link": true
    },
    "kernelspec": {
      "name": "python3",
      "display_name": "Python 3"
    },
    "language_info": {
      "name": "python"
    },
    "accelerator": "GPU"
  },
  "cells": [
    {
      "cell_type": "markdown",
      "metadata": {
        "id": "view-in-github",
        "colab_type": "text"
      },
      "source": [
        "<a href=\"https://colab.research.google.com/github/hsyni/game-character-DCGAN/blob/main/PortraitToCharacterDCGAN.ipynb\" target=\"_parent\"><img src=\"https://colab.research.google.com/assets/colab-badge.svg\" alt=\"Open In Colab\"/></a>"
      ]
    },
    {
      "cell_type": "code",
      "source": [
        "!pip install torch torchvision torchaudio --index-url https://download.pytorch.org/whl/cu118\n",
        "!pip install lpips"
      ],
      "metadata": {
        "colab": {
          "base_uri": "https://localhost:8080/"
        },
        "id": "z5mFkjSxaimg",
        "outputId": "1751b181-2aa7-4006-d2b9-317f9500c5e3"
      },
      "execution_count": null,
      "outputs": [
        {
          "output_type": "stream",
          "name": "stdout",
          "text": [
            "Looking in indexes: https://download.pytorch.org/whl/cu118\n",
            "Requirement already satisfied: torch in /usr/local/lib/python3.11/dist-packages (2.5.1+cu124)\n",
            "Requirement already satisfied: torchvision in /usr/local/lib/python3.11/dist-packages (0.20.1+cu124)\n",
            "Requirement already satisfied: torchaudio in /usr/local/lib/python3.11/dist-packages (2.5.1+cu124)\n",
            "Requirement already satisfied: filelock in /usr/local/lib/python3.11/dist-packages (from torch) (3.17.0)\n",
            "Requirement already satisfied: typing-extensions>=4.8.0 in /usr/local/lib/python3.11/dist-packages (from torch) (4.12.2)\n",
            "Requirement already satisfied: networkx in /usr/local/lib/python3.11/dist-packages (from torch) (3.4.2)\n",
            "Requirement already satisfied: jinja2 in /usr/local/lib/python3.11/dist-packages (from torch) (3.1.5)\n",
            "Requirement already satisfied: fsspec in /usr/local/lib/python3.11/dist-packages (from torch) (2024.10.0)\n",
            "INFO: pip is looking at multiple versions of torch to determine which version is compatible with other requirements. This could take a while.\n",
            "Collecting torch\n",
            "  Downloading https://download.pytorch.org/whl/cu118/torch-2.6.0%2Bcu118-cp311-cp311-linux_x86_64.whl.metadata (27 kB)\n",
            "Collecting nvidia-cuda-nvrtc-cu11==11.8.89 (from torch)\n",
            "  Downloading https://download.pytorch.org/whl/cu118/nvidia_cuda_nvrtc_cu11-11.8.89-py3-none-manylinux1_x86_64.whl (23.2 MB)\n",
            "\u001b[2K     \u001b[90m━━━━━━━━━━━━━━━━━━━━━━━━━━━━━━━━━━━━━━━━\u001b[0m \u001b[32m23.2/23.2 MB\u001b[0m \u001b[31m89.1 MB/s\u001b[0m eta \u001b[36m0:00:00\u001b[0m\n",
            "\u001b[?25hCollecting nvidia-cuda-runtime-cu11==11.8.89 (from torch)\n",
            "  Downloading https://download.pytorch.org/whl/cu118/nvidia_cuda_runtime_cu11-11.8.89-py3-none-manylinux1_x86_64.whl (875 kB)\n",
            "\u001b[2K     \u001b[90m━━━━━━━━━━━━━━━━━━━━━━━━━━━━━━━━━━━━━━━━\u001b[0m \u001b[32m875.6/875.6 kB\u001b[0m \u001b[31m59.9 MB/s\u001b[0m eta \u001b[36m0:00:00\u001b[0m\n",
            "\u001b[?25hCollecting nvidia-cuda-cupti-cu11==11.8.87 (from torch)\n",
            "  Downloading https://download.pytorch.org/whl/cu118/nvidia_cuda_cupti_cu11-11.8.87-py3-none-manylinux1_x86_64.whl (13.1 MB)\n",
            "\u001b[2K     \u001b[90m━━━━━━━━━━━━━━━━━━━━━━━━━━━━━━━━━━━━━━━━\u001b[0m \u001b[32m13.1/13.1 MB\u001b[0m \u001b[31m111.6 MB/s\u001b[0m eta \u001b[36m0:00:00\u001b[0m\n",
            "\u001b[?25hCollecting nvidia-cudnn-cu11==9.1.0.70 (from torch)\n",
            "  Downloading https://download.pytorch.org/whl/cu118/nvidia_cudnn_cu11-9.1.0.70-py3-none-manylinux2014_x86_64.whl (663.9 MB)\n",
            "\u001b[2K     \u001b[90m━━━━━━━━━━━━━━━━━━━━━━━━━━━━━━━━━━━━━━━━\u001b[0m \u001b[32m663.9/663.9 MB\u001b[0m \u001b[31m841.1 kB/s\u001b[0m eta \u001b[36m0:00:00\u001b[0m\n",
            "\u001b[?25hCollecting nvidia-cublas-cu11==11.11.3.6 (from torch)\n",
            "  Downloading https://download.pytorch.org/whl/cu118/nvidia_cublas_cu11-11.11.3.6-py3-none-manylinux1_x86_64.whl (417.9 MB)\n",
            "\u001b[2K     \u001b[90m━━━━━━━━━━━━━━━━━━━━━━━━━━━━━━━━━━━━━━━━\u001b[0m \u001b[32m417.9/417.9 MB\u001b[0m \u001b[31m4.0 MB/s\u001b[0m eta \u001b[36m0:00:00\u001b[0m\n",
            "\u001b[?25hCollecting nvidia-cufft-cu11==10.9.0.58 (from torch)\n",
            "  Downloading https://download.pytorch.org/whl/cu118/nvidia_cufft_cu11-10.9.0.58-py3-none-manylinux1_x86_64.whl (168.4 MB)\n",
            "\u001b[2K     \u001b[90m━━━━━━━━━━━━━━━━━━━━━━━━━━━━━━━━━━━━━━━━\u001b[0m \u001b[32m168.4/168.4 MB\u001b[0m \u001b[31m7.4 MB/s\u001b[0m eta \u001b[36m0:00:00\u001b[0m\n",
            "\u001b[?25hCollecting nvidia-curand-cu11==10.3.0.86 (from torch)\n",
            "  Downloading https://download.pytorch.org/whl/cu118/nvidia_curand_cu11-10.3.0.86-py3-none-manylinux1_x86_64.whl (58.1 MB)\n",
            "\u001b[2K     \u001b[90m━━━━━━━━━━━━━━━━━━━━━━━━━━━━━━━━━━━━━━━━\u001b[0m \u001b[32m58.1/58.1 MB\u001b[0m \u001b[31m13.0 MB/s\u001b[0m eta \u001b[36m0:00:00\u001b[0m\n",
            "\u001b[?25hCollecting nvidia-cusolver-cu11==11.4.1.48 (from torch)\n",
            "  Downloading https://download.pytorch.org/whl/cu118/nvidia_cusolver_cu11-11.4.1.48-py3-none-manylinux1_x86_64.whl (128.2 MB)\n",
            "\u001b[2K     \u001b[90m━━━━━━━━━━━━━━━━━━━━━━━━━━━━━━━━━━━━━━━━\u001b[0m \u001b[32m128.2/128.2 MB\u001b[0m \u001b[31m8.7 MB/s\u001b[0m eta \u001b[36m0:00:00\u001b[0m\n",
            "\u001b[?25hCollecting nvidia-cusparse-cu11==11.7.5.86 (from torch)\n",
            "  Downloading https://download.pytorch.org/whl/cu118/nvidia_cusparse_cu11-11.7.5.86-py3-none-manylinux1_x86_64.whl (204.1 MB)\n",
            "\u001b[2K     \u001b[90m━━━━━━━━━━━━━━━━━━━━━━━━━━━━━━━━━━━━━━━━\u001b[0m \u001b[32m204.1/204.1 MB\u001b[0m \u001b[31m6.2 MB/s\u001b[0m eta \u001b[36m0:00:00\u001b[0m\n",
            "\u001b[?25hCollecting nvidia-nccl-cu11==2.21.5 (from torch)\n",
            "  Downloading https://download.pytorch.org/whl/cu118/nvidia_nccl_cu11-2.21.5-py3-none-manylinux2014_x86_64.whl (147.8 MB)\n",
            "\u001b[2K     \u001b[90m━━━━━━━━━━━━━━━━━━━━━━━━━━━━━━━━━━━━━━━━\u001b[0m \u001b[32m147.8/147.8 MB\u001b[0m \u001b[31m6.8 MB/s\u001b[0m eta \u001b[36m0:00:00\u001b[0m\n",
            "\u001b[?25hCollecting nvidia-nvtx-cu11==11.8.86 (from torch)\n",
            "  Downloading https://download.pytorch.org/whl/cu118/nvidia_nvtx_cu11-11.8.86-py3-none-manylinux1_x86_64.whl (99 kB)\n",
            "\u001b[2K     \u001b[90m━━━━━━━━━━━━━━━━━━━━━━━━━━━━━━━━━━━━━━━━\u001b[0m \u001b[32m99.1/99.1 kB\u001b[0m \u001b[31m6.9 MB/s\u001b[0m eta \u001b[36m0:00:00\u001b[0m\n",
            "\u001b[?25hCollecting triton==3.2.0 (from torch)\n",
            "  Downloading https://download.pytorch.org/whl/triton-3.2.0-cp311-cp311-manylinux_2_27_x86_64.manylinux_2_28_x86_64.whl.metadata (1.4 kB)\n",
            "Requirement already satisfied: sympy==1.13.1 in /usr/local/lib/python3.11/dist-packages (from torch) (1.13.1)\n",
            "Requirement already satisfied: mpmath<1.4,>=1.1.0 in /usr/local/lib/python3.11/dist-packages (from sympy==1.13.1->torch) (1.3.0)\n",
            "Requirement already satisfied: numpy in /usr/local/lib/python3.11/dist-packages (from torchvision) (1.26.4)\n",
            "Requirement already satisfied: pillow!=8.3.*,>=5.3.0 in /usr/local/lib/python3.11/dist-packages (from torchvision) (11.1.0)\n",
            "Collecting torch\n",
            "  Downloading https://download.pytorch.org/whl/cu118/torch-2.5.1%2Bcu118-cp311-cp311-linux_x86_64.whl (838.4 MB)\n",
            "\u001b[2K     \u001b[90m━━━━━━━━━━━━━━━━━━━━━━━━━━━━━━━━━━━━━━━━\u001b[0m \u001b[32m838.4/838.4 MB\u001b[0m \u001b[31m1.5 MB/s\u001b[0m eta \u001b[36m0:00:00\u001b[0m\n",
            "\u001b[?25hRequirement already satisfied: triton==3.1.0 in /usr/local/lib/python3.11/dist-packages (from torch) (3.1.0)\n",
            "Requirement already satisfied: MarkupSafe>=2.0 in /usr/local/lib/python3.11/dist-packages (from jinja2->torch) (3.0.2)\n",
            "Installing collected packages: nvidia-nvtx-cu11, nvidia-nccl-cu11, nvidia-cusparse-cu11, nvidia-curand-cu11, nvidia-cufft-cu11, nvidia-cuda-runtime-cu11, nvidia-cuda-nvrtc-cu11, nvidia-cuda-cupti-cu11, nvidia-cublas-cu11, nvidia-cusolver-cu11, nvidia-cudnn-cu11, torch\n",
            "  Attempting uninstall: torch\n",
            "    Found existing installation: torch 2.5.1+cu124\n",
            "    Uninstalling torch-2.5.1+cu124:\n",
            "      Successfully uninstalled torch-2.5.1+cu124\n",
            "Successfully installed nvidia-cublas-cu11-11.11.3.6 nvidia-cuda-cupti-cu11-11.8.87 nvidia-cuda-nvrtc-cu11-11.8.89 nvidia-cuda-runtime-cu11-11.8.89 nvidia-cudnn-cu11-9.1.0.70 nvidia-cufft-cu11-10.9.0.58 nvidia-curand-cu11-10.3.0.86 nvidia-cusolver-cu11-11.4.1.48 nvidia-cusparse-cu11-11.7.5.86 nvidia-nccl-cu11-2.21.5 nvidia-nvtx-cu11-11.8.86 torch-2.5.1+cu118\n",
            "Collecting lpips\n",
            "  Downloading lpips-0.1.4-py3-none-any.whl.metadata (10 kB)\n",
            "Requirement already satisfied: torch>=0.4.0 in /usr/local/lib/python3.11/dist-packages (from lpips) (2.5.1+cu118)\n",
            "Requirement already satisfied: torchvision>=0.2.1 in /usr/local/lib/python3.11/dist-packages (from lpips) (0.20.1+cu124)\n",
            "Requirement already satisfied: numpy>=1.14.3 in /usr/local/lib/python3.11/dist-packages (from lpips) (1.26.4)\n",
            "Requirement already satisfied: scipy>=1.0.1 in /usr/local/lib/python3.11/dist-packages (from lpips) (1.13.1)\n",
            "Requirement already satisfied: tqdm>=4.28.1 in /usr/local/lib/python3.11/dist-packages (from lpips) (4.67.1)\n",
            "Requirement already satisfied: filelock in /usr/local/lib/python3.11/dist-packages (from torch>=0.4.0->lpips) (3.17.0)\n",
            "Requirement already satisfied: typing-extensions>=4.8.0 in /usr/local/lib/python3.11/dist-packages (from torch>=0.4.0->lpips) (4.12.2)\n",
            "Requirement already satisfied: networkx in /usr/local/lib/python3.11/dist-packages (from torch>=0.4.0->lpips) (3.4.2)\n",
            "Requirement already satisfied: jinja2 in /usr/local/lib/python3.11/dist-packages (from torch>=0.4.0->lpips) (3.1.5)\n",
            "Requirement already satisfied: fsspec in /usr/local/lib/python3.11/dist-packages (from torch>=0.4.0->lpips) (2024.10.0)\n",
            "Requirement already satisfied: nvidia-cuda-nvrtc-cu11==11.8.89 in /usr/local/lib/python3.11/dist-packages (from torch>=0.4.0->lpips) (11.8.89)\n",
            "Requirement already satisfied: nvidia-cuda-runtime-cu11==11.8.89 in /usr/local/lib/python3.11/dist-packages (from torch>=0.4.0->lpips) (11.8.89)\n",
            "Requirement already satisfied: nvidia-cuda-cupti-cu11==11.8.87 in /usr/local/lib/python3.11/dist-packages (from torch>=0.4.0->lpips) (11.8.87)\n",
            "Requirement already satisfied: nvidia-cudnn-cu11==9.1.0.70 in /usr/local/lib/python3.11/dist-packages (from torch>=0.4.0->lpips) (9.1.0.70)\n",
            "Requirement already satisfied: nvidia-cublas-cu11==11.11.3.6 in /usr/local/lib/python3.11/dist-packages (from torch>=0.4.0->lpips) (11.11.3.6)\n",
            "Requirement already satisfied: nvidia-cufft-cu11==10.9.0.58 in /usr/local/lib/python3.11/dist-packages (from torch>=0.4.0->lpips) (10.9.0.58)\n",
            "Requirement already satisfied: nvidia-curand-cu11==10.3.0.86 in /usr/local/lib/python3.11/dist-packages (from torch>=0.4.0->lpips) (10.3.0.86)\n",
            "Requirement already satisfied: nvidia-cusolver-cu11==11.4.1.48 in /usr/local/lib/python3.11/dist-packages (from torch>=0.4.0->lpips) (11.4.1.48)\n",
            "Requirement already satisfied: nvidia-cusparse-cu11==11.7.5.86 in /usr/local/lib/python3.11/dist-packages (from torch>=0.4.0->lpips) (11.7.5.86)\n",
            "Requirement already satisfied: nvidia-nccl-cu11==2.21.5 in /usr/local/lib/python3.11/dist-packages (from torch>=0.4.0->lpips) (2.21.5)\n",
            "Requirement already satisfied: nvidia-nvtx-cu11==11.8.86 in /usr/local/lib/python3.11/dist-packages (from torch>=0.4.0->lpips) (11.8.86)\n",
            "Requirement already satisfied: triton==3.1.0 in /usr/local/lib/python3.11/dist-packages (from torch>=0.4.0->lpips) (3.1.0)\n",
            "Requirement already satisfied: sympy==1.13.1 in /usr/local/lib/python3.11/dist-packages (from torch>=0.4.0->lpips) (1.13.1)\n",
            "Requirement already satisfied: mpmath<1.4,>=1.1.0 in /usr/local/lib/python3.11/dist-packages (from sympy==1.13.1->torch>=0.4.0->lpips) (1.3.0)\n",
            "Requirement already satisfied: pillow!=8.3.*,>=5.3.0 in /usr/local/lib/python3.11/dist-packages (from torchvision>=0.2.1->lpips) (11.1.0)\n",
            "Requirement already satisfied: MarkupSafe>=2.0 in /usr/local/lib/python3.11/dist-packages (from jinja2->torch>=0.4.0->lpips) (3.0.2)\n",
            "Downloading lpips-0.1.4-py3-none-any.whl (53 kB)\n",
            "\u001b[2K   \u001b[90m━━━━━━━━━━━━━━━━━━━━━━━━━━━━━━━━━━━━━━━━\u001b[0m \u001b[32m53.8/53.8 kB\u001b[0m \u001b[31m3.6 MB/s\u001b[0m eta \u001b[36m0:00:00\u001b[0m\n",
            "\u001b[?25hInstalling collected packages: lpips\n",
            "Successfully installed lpips-0.1.4\n"
          ]
        }
      ]
    },
    {
      "cell_type": "code",
      "source": [
        "import tensorflow as tf\n",
        "import torch\n",
        "\n",
        "print(\"🔹 TensorFlow GPU Algıladı mı?:\", tf.config.list_physical_devices('GPU'))\n",
        "print(\"🔹 PyTorch CUDA Kullanılıyor mu?:\", torch.cuda.is_available())\n",
        "print(\"🔹 PyTorch CUDA Sürümü:\", torch.version.cuda)"
      ],
      "metadata": {
        "colab": {
          "base_uri": "https://localhost:8080/"
        },
        "id": "c1nr_cWtaqRw",
        "outputId": "ae0febc7-dcf4-4605-be6f-f30ee013b5ee"
      },
      "execution_count": null,
      "outputs": [
        {
          "output_type": "stream",
          "name": "stdout",
          "text": [
            "🔹 TensorFlow GPU Algıladı mı?: [PhysicalDevice(name='/physical_device:GPU:0', device_type='GPU')]\n",
            "🔹 PyTorch CUDA Kullanılıyor mu?: True\n",
            "🔹 PyTorch CUDA Sürümü: 11.8\n"
          ]
        }
      ]
    },
    {
      "cell_type": "code",
      "source": [
        "!pip uninstall -y torch torchvision torchaudio"
      ],
      "metadata": {
        "colab": {
          "base_uri": "https://localhost:8080/"
        },
        "id": "93hyP5k-b1Ki",
        "outputId": "865c7cfc-ef63-4592-9f92-b3ce84223e34"
      },
      "execution_count": null,
      "outputs": [
        {
          "output_type": "stream",
          "name": "stdout",
          "text": [
            "Found existing installation: torch 2.5.1+cu118\n",
            "Uninstalling torch-2.5.1+cu118:\n",
            "  Successfully uninstalled torch-2.5.1+cu118\n",
            "Found existing installation: torchvision 0.20.1+cu124\n",
            "Uninstalling torchvision-0.20.1+cu124:\n",
            "  Successfully uninstalled torchvision-0.20.1+cu124\n",
            "Found existing installation: torchaudio 2.5.1+cu124\n",
            "Uninstalling torchaudio-2.5.1+cu124:\n",
            "  Successfully uninstalled torchaudio-2.5.1+cu124\n"
          ]
        }
      ]
    },
    {
      "cell_type": "code",
      "source": [
        "!pip install torch torchvision torchaudio --index-url https://download.pytorch.org/whl/cu118"
      ],
      "metadata": {
        "colab": {
          "base_uri": "https://localhost:8080/",
          "height": 931
        },
        "id": "JbUEdTXHb_IB",
        "outputId": "1ece1470-6e39-4811-e85f-dc860195107f"
      },
      "execution_count": null,
      "outputs": [
        {
          "output_type": "stream",
          "name": "stdout",
          "text": [
            "Looking in indexes: https://download.pytorch.org/whl/cu118\n",
            "Collecting torch\n",
            "  Using cached https://download.pytorch.org/whl/cu118/torch-2.6.0%2Bcu118-cp311-cp311-linux_x86_64.whl.metadata (27 kB)\n",
            "Collecting torchvision\n",
            "  Downloading https://download.pytorch.org/whl/cu118/torchvision-0.21.0%2Bcu118-cp311-cp311-linux_x86_64.whl.metadata (6.1 kB)\n",
            "Collecting torchaudio\n",
            "  Downloading https://download.pytorch.org/whl/cu118/torchaudio-2.6.0%2Bcu118-cp311-cp311-linux_x86_64.whl.metadata (6.6 kB)\n",
            "Requirement already satisfied: filelock in /usr/local/lib/python3.11/dist-packages (from torch) (3.17.0)\n",
            "Requirement already satisfied: typing-extensions>=4.10.0 in /usr/local/lib/python3.11/dist-packages (from torch) (4.12.2)\n",
            "Requirement already satisfied: networkx in /usr/local/lib/python3.11/dist-packages (from torch) (3.4.2)\n",
            "Requirement already satisfied: jinja2 in /usr/local/lib/python3.11/dist-packages (from torch) (3.1.5)\n",
            "Requirement already satisfied: fsspec in /usr/local/lib/python3.11/dist-packages (from torch) (2024.10.0)\n",
            "Requirement already satisfied: nvidia-cuda-nvrtc-cu11==11.8.89 in /usr/local/lib/python3.11/dist-packages (from torch) (11.8.89)\n",
            "Requirement already satisfied: nvidia-cuda-runtime-cu11==11.8.89 in /usr/local/lib/python3.11/dist-packages (from torch) (11.8.89)\n",
            "Requirement already satisfied: nvidia-cuda-cupti-cu11==11.8.87 in /usr/local/lib/python3.11/dist-packages (from torch) (11.8.87)\n",
            "Requirement already satisfied: nvidia-cudnn-cu11==9.1.0.70 in /usr/local/lib/python3.11/dist-packages (from torch) (9.1.0.70)\n",
            "Requirement already satisfied: nvidia-cublas-cu11==11.11.3.6 in /usr/local/lib/python3.11/dist-packages (from torch) (11.11.3.6)\n",
            "Requirement already satisfied: nvidia-cufft-cu11==10.9.0.58 in /usr/local/lib/python3.11/dist-packages (from torch) (10.9.0.58)\n",
            "Requirement already satisfied: nvidia-curand-cu11==10.3.0.86 in /usr/local/lib/python3.11/dist-packages (from torch) (10.3.0.86)\n",
            "Requirement already satisfied: nvidia-cusolver-cu11==11.4.1.48 in /usr/local/lib/python3.11/dist-packages (from torch) (11.4.1.48)\n",
            "Requirement already satisfied: nvidia-cusparse-cu11==11.7.5.86 in /usr/local/lib/python3.11/dist-packages (from torch) (11.7.5.86)\n",
            "Requirement already satisfied: nvidia-nccl-cu11==2.21.5 in /usr/local/lib/python3.11/dist-packages (from torch) (2.21.5)\n",
            "Requirement already satisfied: nvidia-nvtx-cu11==11.8.86 in /usr/local/lib/python3.11/dist-packages (from torch) (11.8.86)\n",
            "Collecting triton==3.2.0 (from torch)\n",
            "  Using cached https://download.pytorch.org/whl/triton-3.2.0-cp311-cp311-manylinux_2_27_x86_64.manylinux_2_28_x86_64.whl.metadata (1.4 kB)\n",
            "Requirement already satisfied: sympy==1.13.1 in /usr/local/lib/python3.11/dist-packages (from torch) (1.13.1)\n",
            "Requirement already satisfied: mpmath<1.4,>=1.1.0 in /usr/local/lib/python3.11/dist-packages (from sympy==1.13.1->torch) (1.3.0)\n",
            "Requirement already satisfied: numpy in /usr/local/lib/python3.11/dist-packages (from torchvision) (1.26.4)\n",
            "Requirement already satisfied: pillow!=8.3.*,>=5.3.0 in /usr/local/lib/python3.11/dist-packages (from torchvision) (11.1.0)\n",
            "Requirement already satisfied: MarkupSafe>=2.0 in /usr/local/lib/python3.11/dist-packages (from jinja2->torch) (3.0.2)\n",
            "Downloading https://download.pytorch.org/whl/cu118/torch-2.6.0%2Bcu118-cp311-cp311-linux_x86_64.whl (848.7 MB)\n",
            "\u001b[2K   \u001b[90m━━━━━━━━━━━━━━━━━━━━━━━━━━━━━━━━━━━━━━━━\u001b[0m \u001b[32m848.7/848.7 MB\u001b[0m \u001b[31m1.7 MB/s\u001b[0m eta \u001b[36m0:00:00\u001b[0m\n",
            "\u001b[?25hDownloading https://download.pytorch.org/whl/triton-3.2.0-cp311-cp311-manylinux_2_27_x86_64.manylinux_2_28_x86_64.whl (166.7 MB)\n",
            "\u001b[2K   \u001b[90m━━━━━━━━━━━━━━━━━━━━━━━━━━━━━━━━━━━━━━━━\u001b[0m \u001b[32m166.7/166.7 MB\u001b[0m \u001b[31m6.8 MB/s\u001b[0m eta \u001b[36m0:00:00\u001b[0m\n",
            "\u001b[?25hDownloading https://download.pytorch.org/whl/cu118/torchvision-0.21.0%2Bcu118-cp311-cp311-linux_x86_64.whl (6.5 MB)\n",
            "\u001b[2K   \u001b[90m━━━━━━━━━━━━━━━━━━━━━━━━━━━━━━━━━━━━━━━━\u001b[0m \u001b[32m6.5/6.5 MB\u001b[0m \u001b[31m93.3 MB/s\u001b[0m eta \u001b[36m0:00:00\u001b[0m\n",
            "\u001b[?25hDownloading https://download.pytorch.org/whl/cu118/torchaudio-2.6.0%2Bcu118-cp311-cp311-linux_x86_64.whl (3.3 MB)\n",
            "\u001b[2K   \u001b[90m━━━━━━━━━━━━━━━━━━━━━━━━━━━━━━━━━━━━━━━━\u001b[0m \u001b[32m3.3/3.3 MB\u001b[0m \u001b[31m87.0 MB/s\u001b[0m eta \u001b[36m0:00:00\u001b[0m\n",
            "\u001b[?25hInstalling collected packages: triton, torch, torchvision, torchaudio\n",
            "  Attempting uninstall: triton\n",
            "    Found existing installation: triton 3.1.0\n",
            "    Uninstalling triton-3.1.0:\n",
            "      Successfully uninstalled triton-3.1.0\n",
            "\u001b[31mERROR: pip's dependency resolver does not currently take into account all the packages that are installed. This behaviour is the source of the following dependency conflicts.\n",
            "fastai 2.7.18 requires torch<2.6,>=1.10, but you have torch 2.6.0+cu118 which is incompatible.\u001b[0m\u001b[31m\n",
            "\u001b[0mSuccessfully installed torch-2.6.0+cu118 torchaudio-2.6.0+cu118 torchvision-0.21.0+cu118 triton-3.2.0\n"
          ]
        },
        {
          "output_type": "display_data",
          "data": {
            "application/vnd.colab-display-data+json": {
              "pip_warning": {
                "packages": [
                  "torch",
                  "torchgen"
                ]
              },
              "id": "2562baedfdac471daca05fc4397dec77"
            }
          },
          "metadata": {}
        }
      ]
    },
    {
      "cell_type": "code",
      "execution_count": null,
      "metadata": {
        "colab": {
          "base_uri": "https://localhost:8080/",
          "height": 1000
        },
        "id": "Ocu5taq29HC-",
        "outputId": "114470d1-900a-4f7e-b878-3a91966da7dc"
      },
      "outputs": [
        {
          "output_type": "stream",
          "name": "stdout",
          "text": [
            "Mounted at /content/drive\n"
          ]
        },
        {
          "output_type": "error",
          "ename": "RuntimeError",
          "evalue": "❌ Ağırlıklar yüklenirken bir hata oluştu: A total of 7 objects could not be loaded. Example error message for object <Conv2DTranspose name=conv2d_transpose_8, built=True>:\n\nThe shape of the target variable and the shape of the target value in `variable.assign(value)` must match. variable.shape=(5, 5, 256, 512), Received: value.shape=(5, 5, 512, 512). Target variable: <Variable path=conv2d_transpose_8/kernel, shape=(5, 5, 256, 512), dtype=float32, value=[[[[ 6.22888282e-03 -1.67163294e-02 -1.67883039e-02 ... -1.24410298e-02\n     1.21840518e-02 -1.53355114e-02]\n   [-4.14511282e-03 -7.46158138e-03 -3.59964836e-03 ... -1.39244553e-02\n    -5.09580690e-03 -6.59135450e-03]\n   [-1.10118557e-02  1.14883259e-02  1.28029268e-02 ... -5.16857766e-03\n    -1.42055284e-02  3.10651027e-03]\n   ...\n   [ 8.94269347e-03 -6.09705225e-04 -1.41174924e-02 ... -6.36001863e-03\n     1.38629228e-04  1.10772550e-02]\n   [-9.46686510e-03  3.12786922e-03  1.17697734e-02 ...  8.03835690e-03\n    -1.39707159e-02  1.66127812e-02]\n   [ 1.26663037e-02  1.19434856e-02  2.83369794e-03 ...  6.91195764e-03\n     1.40834767e-02  2.36195512e-03]]\n\n  [[ 9.59692150e-03  5.66266477e-03  6.96795806e-03 ...  4.06370312e-03\n    -1.50824236e-02  1.62636731e-02]\n   [-1.41491238e-02  8.60641710e-03 -9.78791062e-03 ... -1.37090683e-03\n    -1.55510670e-02  3.69629636e-03]\n   [-8.22192058e-04 -1.28816999e-02 -6.49235118e-03 ... -1.13029294e-02\n    -7.26105552e-03  4.52592224e-03]\n   ...\n   [ 3.08392383e-03 -2.69485265e-03 -1.60417873e-02 ...  1.75634678e-02\n     3.98497283e-03 -1.76545735e-02]\n   [ 4.26241197e-03 -8.49436503e-03  1.73669737e-02 ...  1.87916867e-03\n    -9.92401130e-03  4.67506424e-03]\n   [-4.24764771e-03 -2.74605677e-03 -6.23832829e-03 ... -7.97683373e-04\n    -1.35148298e-02 -1.46880429e-02]]\n\n  [[ 2.80942395e-03  5.86515293e-04 -1.39155751e-02 ... -5.47692832e-03\n    -1.54917911e-02  1.33309048e-02]\n   [ 1.90368108e-03 -1.34456903e-04 -1.06136352e-02 ... -9.92754754e-03\n    -4.15359344e-03  1.76507812e-02]\n   [ 1.16723515e-02  1.17901675e-02  1.42843556e-02 ... -3.55696213e-03\n     1.25300884e-03  9.74367745e-03]\n   ...\n   [ 1.24074426e-02 -5.14444895e-03  1.33222435e-02 ... -5.44857234e-03\n     8.31391662e-03 -1.90419890e-03]\n   [ 8.21228512e-03  1.02539361e-02  9.12768394e-03 ... -1.45323146e-02\n     4.48096544e-04  1.19378790e-03]\n   [-1.19103082e-02  1.04548894e-02 -1.62790306e-02 ...  1.72296297e-02\n     2.98070535e-03 -1.70092639e-02]]\n\n  [[-8.45999829e-03 -8.08657706e-03 -1.35811567e-02 ... -1.72558222e-02\n    -1.44135403e-02 -1.24242846e-02]\n   [ 7.90134631e-03  3.17172334e-03 -7.49085099e-04 ... -1.43098589e-02\n    -1.50211882e-02  7.38754123e-03]\n   [ 1.06156152e-02 -1.66201685e-02 -1.14953890e-02 ... -3.04792076e-03\n    -8.70365649e-04  8.90559517e-03]\n   ...\n   [-1.12940958e-02  1.32322013e-02  1.75481644e-02 ... -1.46450019e-02\n     7.30527565e-03  1.28315911e-02]\n   [ 1.39962602e-02 -1.61472037e-02  1.70595180e-02 ... -8.60423315e-03\n    -4.37700562e-03  6.02224469e-03]\n   [ 1.06812418e-02 -8.01745616e-03 -1.48836169e-02 ... -6.76778518e-03\n     1.57555286e-02  1.59600507e-02]]\n\n  [[-1.05580473e-02  5.31252287e-03 -1.20360320e-02 ... -3.46692000e-03\n     3.16056237e-03 -2.78377440e-03]\n   [-6.01612031e-04 -1.30872168e-02 -1.72929838e-03 ... -1.17614875e-02\n     3.84208560e-03 -1.76672395e-02]\n   [-7.26988073e-03 -1.72354653e-02 -1.16399564e-02 ... -7.61302188e-04\n    -9.30068921e-03  1.82884373e-03]\n   ...\n   [ 7.83880427e-03  9.21325944e-03 -3.42623144e-03 ...  6.31480291e-03\n    -9.26313549e-03 -1.59614086e-02]\n   [-7.31455162e-04  7.33642653e-03 -7.66578317e-03 ... -1.48097249e-02\n     1.40893478e-02 -1.74442902e-02]\n   [-7.52496999e-03  9.35325772e-03  7.83506595e-03 ... -1.56176127e-02\n    -1.55540509e-02 -6.10210001e-04]]]\n\n\n [[[-2.21802853e-03  7.45213591e-03  4.14912589e-03 ... -3.47943325e-03\n     1.46249589e-02  1.28296781e-02]\n   [-4.44128364e-03  1.62170548e-02 -7.66496081e-03 ...  1.57157127e-02\n     1.54944137e-04  1.60132404e-02]\n   [-2.46764719e-03 -1.09765660e-02 -5.22954762e-03 ...  1.74730886e-02\n    -4.42644302e-03 -1.50329173e-02]\n   ...\n   [-1.32867778e-02  1.22453831e-03  7.17563555e-04 ... -1.43076377e-02\n    -1.44937113e-02  1.54421646e-02]\n   [ 6.09231927e-03 -1.17915003e-02 -2.78764311e-03 ... -1.44889075e-02\n     4.68131900e-03 -5.35757653e-03]\n   [-8.46434385e-03 -1.59387384e-02 -1.99685432e-03 ...  1.52994711e-02\n     2.29795091e-03 -1.22559126e-02]]\n\n  [[-6.00200146e-04 -1.87974051e-03  1.45474821e-03 ...  5.23140654e-03\n    -8.45790748e-03 -5.44827711e-03]\n   [ 7.43824989e-03 -4.90785763e-03  1.31909773e-02 ... -8.04883894e-03\n     1.65104512e-02 -1.55673353e-02]\n   [-1.32748205e-02 -1.60309076e-02  5.03164716e-03 ... -7.23441411e-03\n    -4.43199463e-03  1.08464845e-02]\n   ...\n   [ 1.74476784e-02 -6.20461069e-03  7.25732557e-03 ...  2.67952308e-03\n     1.22978520e-02  1.16430633e-02]\n   [-7.78578315e-03 -8.85767024e-03  4.07716446e-03 ...  9.05957073e-03\n    -4.68801986e-03 -6.03896100e-03]\n   [ 3.28447856e-03  9.36015882e-03 -9.43319406e-03 ...  1.62257310e-02\n     1.52428504e-02  3.18147615e-03]]\n\n  [[ 5.23158722e-03  1.35206245e-03 -1.21647436e-02 ... -6.61279447e-03\n     1.37746613e-02 -4.79525328e-03]\n   [-9.83898435e-03  7.15257414e-03  1.80102699e-03 ...  1.33559238e-02\n    -4.83992510e-03 -3.70605662e-03]\n   [-1.38739171e-02 -4.56491299e-03 -3.77763528e-03 ...  6.86165504e-03\n    -1.52550945e-02 -1.45508079e-02]\n   ...\n   [-7.79084116e-03  9.26209986e-03 -8.27370491e-03 ...  2.89680436e-04\n    -8.81334487e-03 -1.59230456e-03]\n   [-7.04358146e-03 -4.12025489e-03  1.17151756e-02 ... -1.33605348e-02\n    -1.36069879e-02 -1.60636492e-02]\n   [ 2.19587237e-03  1.48727242e-02 -1.73047837e-02 ...  7.60519318e-03\n     1.39634032e-02  1.05050597e-02]]\n\n  [[-1.43999690e-02  9.79639404e-03  1.33492947e-02 ...  5.19262627e-03\n    -5.06711379e-03  1.04438700e-03]\n   [ 1.08490158e-02  1.52428094e-02 -1.22386105e-02 ...  1.48792546e-02\n    -1.74786523e-02  5.78805618e-03]\n   [-6.83930051e-03 -3.72802839e-03  8.67578201e-03 ...  1.28159039e-02\n    -2.43752077e-03  7.48089328e-03]\n   ...\n   [ 6.72121719e-03  8.16650502e-03  2.43571214e-03 ... -1.28778275e-02\n     1.68951098e-02  1.10369585e-02]\n   [-5.74689172e-03 -1.32233677e-02 -1.41096953e-02 ... -6.40395284e-03\n     1.02790389e-02 -1.31254010e-02]\n   [-3.21913417e-03 -3.32135707e-03  1.42802726e-02 ... -4.29076888e-03\n     1.48072466e-03  1.45527292e-02]]\n\n  [[ 7.30180368e-03 -5.19413594e-03  9.57320631e-03 ... -9.95605532e-03\n     1.20762866e-02 -1.63462814e-02]\n   [ 1.15452707e-02  1.39790215e-03  4.00247611e-03 ... -1.27873253e-02\n     1.57686137e-03  1.23204105e-03]\n   [-9.91255976e-03  5.35057299e-03 -1.73325092e-02 ...  1.04858540e-02\n    -1.48113985e-02  8.46232846e-03]\n   ...\n   [-2.43263319e-04 -1.35696046e-02 -1.79631636e-03 ...  5.86745329e-03\n     1.25002377e-02  9.35581699e-03]\n   [-8.73311795e-03 -3.44324578e-03  8.04727525e-03 ... -2.11187359e-03\n    -1.26009686e-02 -2.45414767e-03]\n   [ 9.66939330e-03  1.70085076e-02  6.90316968e-03 ...  1.52534898e-02\n     3.89542244e-03 -4.11325414e-03]]]\n\n\n [[[-3.71935405e-03 -1.21969404e-02 -1.29677560e-02 ...  7.24795088e-03\n    -1.74089130e-02  1.42763909e-02]\n   [ 4.08301316e-03 -1.25351222e-02  4.26772237e-03 ...  7.38661550e-03\n    -1.15787350e-02 -5.66518959e-03]\n   [ 3.59968655e-03 -9.05697420e-03  8.17188248e-03 ... -1.67829860e-02\n     1.52431112e-02  9.55598429e-03]\n   ...\n   [-4.17404715e-03  9.14656185e-03 -1.61920153e-02 ... -1.70404818e-02\n     6.41971081e-03 -1.30622573e-02]\n   [-7.86978658e-03  1.68878343e-02 -1.31239090e-02 ...  5.11448644e-03\n     1.18530802e-02  7.04086758e-03]\n   [-5.59095293e-04  7.75825232e-03 -8.93964246e-03 ... -6.50077220e-03\n     6.61086477e-03 -1.04728471e-02]]\n\n  [[-8.92648473e-04 -1.33544747e-02  1.47253592e-02 ... -1.00125112e-02\n     1.44401472e-02  1.27111915e-02]\n   [-9.19067673e-03 -9.54959542e-04  5.46698645e-03 ... -1.61075406e-02\n    -4.05758712e-03  7.45650195e-03]\n   [-1.61400177e-02 -1.59403309e-04 -2.12874077e-03 ... -5.29251527e-03\n     2.41849199e-03  7.99140148e-03]\n   ...\n   [-9.72225424e-03  1.09653380e-02  9.90174152e-03 ...  1.22599546e-02\n    -2.19989289e-03 -1.02464855e-02]\n   [ 1.01978220e-02  9.21593979e-03 -4.99967393e-03 ... -1.50712961e-02\n    -1.34601872e-02  1.19272210e-02]\n   [-1.64940599e-02 -5.85136563e-03  7.15781190e-03 ...  9.77808237e-03\n     1.18150357e-02 -1.55287795e-02]]\n\n  [[ 9.90506634e-03  8.37024301e-03 -1.69524122e-02 ...  6.47321716e-03\n     1.67989042e-02 -1.66642498e-02]\n   [-5.03985677e-03 -1.28602898e-02  9.78030823e-03 ...  1.05549954e-03\n    -5.91359474e-03 -8.49744119e-03]\n   [ 8.00380483e-03  1.25328675e-02  1.43548269e-02 ...  3.43909487e-03\n     1.73718389e-02 -6.04861230e-03]\n   ...\n   [ 1.11257900e-02 -2.92958971e-03  1.42031908e-03 ... -1.62183680e-03\n     1.55659374e-02 -1.72343776e-02]\n   [ 6.40485436e-03  3.94918025e-03  1.00633577e-02 ...  1.08553339e-02\n     8.40762258e-03  1.66553166e-02]\n   [ 2.64086761e-03 -4.70498390e-03  9.84025188e-03 ...  1.12973377e-02\n     1.89753063e-03  1.22745950e-02]]\n\n  [[ 1.74821522e-02 -1.13399848e-02 -1.38657279e-02 ... -5.46593219e-04\n     2.91245244e-03 -4.13512439e-03]\n   [-3.86278797e-03  3.78888845e-03  1.78552233e-03 ...  4.15833853e-03\n     3.36313806e-03 -1.33741945e-02]\n   [ 4.05774266e-03  1.50278769e-03  8.52756202e-05 ...  1.66367237e-02\n     7.91113824e-04 -3.76700517e-03]\n   ...\n   [-1.25777628e-02  8.28677416e-03 -6.95064384e-03 ... -2.69955676e-03\n    -1.66685898e-02  1.32602379e-02]\n   [ 6.55618310e-03  1.13144871e-02  6.19796850e-03 ...  1.14944074e-02\n    -1.62070319e-02  1.45650227e-02]\n   [-1.66615136e-02 -1.55173801e-03  3.46898101e-03 ... -5.11377025e-03\n     1.71548221e-02 -5.42268995e-03]]\n\n  [[ 1.53710525e-02 -1.51097719e-02  2.95621343e-03 ...  3.26578692e-03\n    -1.16992202e-02  4.92290780e-03]\n   [-2.91970186e-03 -4.58109751e-03  1.31453667e-02 ...  4.26047668e-03\n    -1.34753641e-02  3.58461402e-03]\n   [-4.86476626e-03 -5.18488046e-03  1.29392184e-02 ...  4.21736576e-03\n    -1.64912287e-02 -1.34648820e-02]\n   ...\n   [-1.38836820e-02  9.08461027e-03 -1.66528486e-02 ... -1.53236380e-02\n    -5.95927797e-03 -1.39378076e-02]\n   [ 1.68500524e-02  7.80502334e-03 -6.94673508e-05 ... -1.36689954e-02\n     1.38330627e-02  8.16131942e-03]\n   [ 8.55032355e-03 -1.32682081e-02 -1.62381865e-02 ...  5.40265813e-03\n     1.62301380e-02 -1.17539223e-02]]]\n\n\n [[[ 1.63576808e-02 -2.20087450e-03  1.35390554e-02 ...  9.55869444e-03\n     6.75909035e-03 -3.13134864e-04]\n   [ 1.34180486e-02 -1.41187310e-02  1.40089635e-02 ...  1.65483598e-02\n    -1.63675938e-02 -1.90184638e-03]\n   [ 1.61807332e-02 -8.61834362e-03  1.33947209e-02 ...  4.85148653e-03\n    -6.04431331e-03  9.53753293e-03]\n   ...\n   [-1.71344150e-02  8.61715153e-03  3.89773399e-04 ... -1.45703768e-02\n     1.68907437e-02 -1.56186195e-02]\n   [ 1.52080487e-02  1.48066636e-02 -8.35769065e-03 ...  4.73016687e-03\n     1.56209804e-03 -1.13973934e-02]\n   [ 1.55627299e-02 -8.97228438e-03 -1.19834449e-02 ... -7.21868034e-03\n     5.32377511e-03 -1.21542998e-03]]\n\n  [[-1.41661214e-02  6.65352121e-03 -7.03949761e-03 ...  7.24949874e-03\n    -7.44768977e-03  1.00335181e-02]\n   [-6.71613961e-04 -1.28828129e-02  2.88946554e-03 ... -1.10568218e-02\n    -3.30406427e-03  6.83830492e-03]\n   [ 6.20068982e-04 -1.11230724e-02  6.82962313e-03 ... -1.15383789e-02\n    -1.73749588e-02 -1.24522364e-02]\n   ...\n   [-9.46828164e-03  4.46936116e-03 -7.94784632e-03 ... -3.09752766e-03\n     1.73916649e-02  1.04392488e-02]\n   [ 1.19366124e-03  1.09154619e-02  1.00933202e-02 ...  1.19409114e-02\n    -3.17489263e-03 -7.03985989e-03]\n   [-1.64892673e-02  1.46121513e-02  6.68099150e-03 ...  5.71117178e-03\n     2.48508342e-03  3.69508564e-03]]\n\n  [[ 5.21817990e-03 -1.44058820e-02 -1.28706368e-02 ... -9.98352654e-03\n    -2.97350250e-03 -5.76220360e-03]\n   [ 8.05224851e-03  6.30719215e-03  3.78511846e-04 ... -7.27368705e-03\n    -6.87821396e-03 -1.51678678e-02]\n   [-3.06329224e-03  1.53708477e-02 -2.52894126e-03 ...  3.37796472e-03\n    -7.96852354e-03  1.32112671e-02]\n   ...\n   [-4.55459487e-03 -1.13178287e-02 -4.24323976e-03 ...  1.12318434e-03\n    -1.10136000e-02 -1.98242813e-03]\n   [ 1.15090441e-02  2.41622329e-03  1.34508759e-02 ...  1.54927056e-02\n     2.31310353e-03 -1.59411021e-02]\n   [-9.40391514e-03  2.15141103e-03  1.42895617e-03 ... -1.67586915e-02\n     9.67296772e-03 -1.19106071e-02]]\n\n  [[ 1.38706900e-03 -7.90571235e-03 -1.31549509e-02 ...  6.09584153e-03\n     7.51622021e-04  1.19305644e-02]\n   [-1.15578976e-02  1.10197198e-02  8.53874162e-03 ...  1.39921587e-02\n    -1.85417011e-04 -4.05340176e-03]\n   [ 2.63679214e-03  1.63448732e-02 -7.02551287e-03 ... -1.42391957e-03\n    -9.65462998e-04 -3.14633828e-03]\n   ...\n   [-1.45615637e-03  3.12557630e-03  1.13876909e-02 ...  5.29807806e-03\n    -1.63113363e-02  5.69621474e-03]\n   [ 5.65996394e-03 -1.71691813e-02 -1.28000323e-02 ... -6.54330291e-03\n    -1.76018663e-03  1.05680712e-03]\n   [-2.45703384e-04 -7.22771697e-03  3.33109312e-03 ...  1.52875166e-02\n    -1.49771534e-02  5.67168556e-03]]\n\n  [[-2.20162049e-03 -1.18825082e-02  9.73126106e-03 ...  1.20099075e-03\n    -1.27691552e-02 -1.44074922e-02]\n   [-1.37493731e-02 -2.11167522e-03 -2.87615601e-03 ... -1.44429840e-02\n     1.31854899e-02  5.35532273e-03]\n   [ 8.10846314e-03 -5.32841589e-03 -2.40601227e-03 ...  6.63378276e-03\n    -3.19114421e-03  1.34501476e-02]\n   ...\n   [ 1.44843999e-02  1.40817445e-02 -2.05168687e-03 ...  1.41412597e-02\n    -6.71736524e-03 -3.46804503e-03]\n   [ 1.71623100e-02 -1.54029950e-03  6.78144582e-03 ...  1.67572927e-02\n     1.39046330e-02 -2.94416863e-03]\n   [-7.16636423e-03 -1.11569073e-02 -1.39533002e-02 ... -6.90062344e-03\n    -2.84932554e-03 -1.05851097e-02]]]\n\n\n [[[ 3.87098640e-04  1.02592520e-02  3.69774550e-03 ...  1.58166122e-02\n     7.16141611e-03 -4.53222357e-03]\n   [ 1.93406083e-03 -8.65281560e-03 -1.15129771e-02 ... -6.02927990e-03\n     1.69920567e-02 -1.12938220e-02]\n   [-1.40150450e-03  1.39888749e-03  1.38685387e-02 ...  1.19875260e-02\n     1.32861454e-02 -1.70503948e-02]\n   ...\n   [-5.32155856e-03 -1.43972002e-02 -3.57652269e-03 ... -4.31826897e-03\n     1.45428199e-02 -3.83529626e-03]\n   [-4.03646752e-03 -7.43159000e-03  1.40255876e-03 ...  8.08464736e-03\n     3.94108891e-03  1.11038033e-02]\n   [ 8.11578892e-03  2.99130939e-03  1.21990684e-02 ... -1.48614682e-02\n     1.70701351e-02 -1.73043795e-02]]\n\n  [[ 1.10075269e-02  2.02445313e-03 -8.95972922e-03 ... -8.21475405e-03\n    -5.95467165e-04 -5.31429239e-03]\n   [-1.28554851e-02  1.66679341e-02  9.57584940e-03 ... -4.69042175e-03\n     1.68500971e-02  1.03213042e-02]\n   [-9.75269731e-03 -3.74927465e-03 -1.33295227e-02 ...  2.24359520e-03\n     7.43134134e-03 -1.09887375e-02]\n   ...\n   [ 1.28995292e-02 -1.54185696e-02 -3.48120742e-03 ...  1.97446160e-03\n     2.54150480e-03 -1.29582677e-02]\n   [ 1.44423414e-02  9.87732969e-03  1.01383440e-02 ... -8.03051796e-03\n    -1.55975884e-02  9.71539691e-03]\n   [-9.10620205e-03  1.29912365e-02  5.39364293e-03 ... -4.41452023e-03\n     7.56739452e-03  1.86725706e-03]]\n\n  [[ 1.20211449e-02 -1.11774206e-02  4.38570976e-04 ...  2.25956924e-03\n    -6.66160043e-03 -1.22436434e-02]\n   [-3.30640748e-03 -2.48102471e-03 -1.34744793e-02 ... -1.09544937e-02\n     1.21203978e-02 -1.53999235e-02]\n   [ 1.23453680e-02  1.76668782e-02  1.06820222e-02 ... -2.18863972e-03\n    -1.42649747e-03 -1.43113760e-02]\n   ...\n   [ 1.30664427e-02 -1.56375226e-02  1.06082410e-02 ...  9.07156616e-03\n    -2.66842637e-03 -1.15078222e-02]\n   [ 3.32315266e-03  2.12753005e-03 -4.42877412e-03 ... -1.35470089e-02\n     5.33309020e-03  9.70525667e-03]\n   [ 1.36829671e-02  8.98074359e-05 -1.72164850e-03 ... -3.01970821e-03\n    -6.06651232e-03  1.42697245e-04]]\n\n  [[ 1.03083868e-02  1.41850803e-02  8.65584239e-03 ...  1.33926608e-03\n     1.11448541e-02 -2.93546449e-03]\n   [ 7.53501803e-03  5.69628179e-03 -9.90195945e-03 ... -1.72358193e-03\n     1.49210189e-02  1.71208847e-02]\n   [-1.14817172e-04 -1.07441302e-02 -6.37233444e-03 ... -1.75085142e-02\n    -7.11263064e-03 -1.26605183e-02]\n   ...\n   [ 1.25569329e-02  9.64172371e-03  7.92544521e-03 ...  1.18889604e-02\n    -1.68707557e-02 -1.10201035e-02]\n   [ 4.51474078e-03  5.18188439e-03 -9.63497255e-03 ...  2.69502588e-03\n     1.74954962e-02  1.37117691e-03]\n   [ 7.44778663e-03  1.03661027e-02  2.39707716e-03 ...  2.90087424e-03\n    -1.72850508e-02 -1.64437834e-02]]\n\n  [[-3.72678880e-03  1.21167768e-02 -4.74315975e-03 ...  9.00002196e-03\n    -1.30612878e-02  4.74800356e-03]\n   [-6.61507901e-03 -1.44913346e-02  9.73971561e-03 ...  1.68288499e-03\n    -1.71994008e-02  1.44207682e-02]\n   [-1.43900011e-02 -9.22634173e-03  1.58598144e-02 ... -1.07148625e-02\n    -9.02701169e-04 -1.52544500e-02]\n   ...\n   [-1.44138858e-02 -9.95510723e-03 -1.48145761e-02 ...  6.93486817e-03\n     9.92439501e-03  2.23891810e-04]\n   [-1.22230202e-02 -5.11916354e-04 -3.52806691e-03 ... -4.50305361e-03\n    -5.83523978e-03 -4.56066057e-03]\n   [-1.00519937e-02  5.55196591e-03 -5.49891684e-03 ...  5.71322441e-03\n    -1.36770401e-02  1.24108642e-02]]]]>\n\nList of objects that could not be loaded:\n[<Conv2DTranspose name=conv2d_transpose_8, built=True>, <BatchNormalization name=batch_normalization_9, built=True>, <Conv2DTranspose name=conv2d_transpose_9, built=True>, <BatchNormalization name=batch_normalization_10, built=True>, <Conv2DTranspose name=conv2d_transpose_10, built=True>, <BatchNormalization name=batch_normalization_11, built=True>, <Conv2DTranspose name=conv2d_transpose_11, built=True>]",
          "traceback": [
            "\u001b[0;31m---------------------------------------------------------------------------\u001b[0m",
            "\u001b[0;31mValueError\u001b[0m                                Traceback (most recent call last)",
            "\u001b[0;32m<ipython-input-3-f77ab0771b2b>\u001b[0m in \u001b[0;36m<cell line: 0>\u001b[0;34m()\u001b[0m\n\u001b[1;32m     42\u001b[0m \u001b[0;32mtry\u001b[0m\u001b[0;34m:\u001b[0m\u001b[0;34m\u001b[0m\u001b[0;34m\u001b[0m\u001b[0m\n\u001b[0;32m---> 43\u001b[0;31m     \u001b[0mgenerator\u001b[0m\u001b[0;34m.\u001b[0m\u001b[0mload_weights\u001b[0m\u001b[0;34m(\u001b[0m\u001b[0mgenerator_path\u001b[0m\u001b[0;34m)\u001b[0m\u001b[0;34m\u001b[0m\u001b[0;34m\u001b[0m\u001b[0m\n\u001b[0m\u001b[1;32m     44\u001b[0m     \u001b[0mprint\u001b[0m\u001b[0;34m(\u001b[0m\u001b[0;34m\"✅ Ağırlıklar başarıyla yüklendi!\"\u001b[0m\u001b[0;34m)\u001b[0m\u001b[0;34m\u001b[0m\u001b[0;34m\u001b[0m\u001b[0m\n",
            "\u001b[0;32m/usr/local/lib/python3.11/dist-packages/keras/src/utils/traceback_utils.py\u001b[0m in \u001b[0;36merror_handler\u001b[0;34m(*args, **kwargs)\u001b[0m\n\u001b[1;32m    121\u001b[0m             \u001b[0;31m# `keras.config.disable_traceback_filtering()`\u001b[0m\u001b[0;34m\u001b[0m\u001b[0;34m\u001b[0m\u001b[0m\n\u001b[0;32m--> 122\u001b[0;31m             \u001b[0;32mraise\u001b[0m \u001b[0me\u001b[0m\u001b[0;34m.\u001b[0m\u001b[0mwith_traceback\u001b[0m\u001b[0;34m(\u001b[0m\u001b[0mfiltered_tb\u001b[0m\u001b[0;34m)\u001b[0m \u001b[0;32mfrom\u001b[0m \u001b[0;32mNone\u001b[0m\u001b[0;34m\u001b[0m\u001b[0;34m\u001b[0m\u001b[0m\n\u001b[0m\u001b[1;32m    123\u001b[0m         \u001b[0;32mfinally\u001b[0m\u001b[0;34m:\u001b[0m\u001b[0;34m\u001b[0m\u001b[0;34m\u001b[0m\u001b[0m\n",
            "\u001b[0;32m/usr/local/lib/python3.11/dist-packages/keras/src/saving/saving_lib.py\u001b[0m in \u001b[0;36m_raise_loading_failure\u001b[0;34m(error_msgs, warn_only)\u001b[0m\n\u001b[1;32m    630\u001b[0m     \u001b[0;32melse\u001b[0m\u001b[0;34m:\u001b[0m\u001b[0;34m\u001b[0m\u001b[0;34m\u001b[0m\u001b[0m\n\u001b[0;32m--> 631\u001b[0;31m         \u001b[0;32mraise\u001b[0m \u001b[0mValueError\u001b[0m\u001b[0;34m(\u001b[0m\u001b[0mmsg\u001b[0m\u001b[0;34m)\u001b[0m\u001b[0;34m\u001b[0m\u001b[0;34m\u001b[0m\u001b[0m\n\u001b[0m\u001b[1;32m    632\u001b[0m \u001b[0;34m\u001b[0m\u001b[0m\n",
            "\u001b[0;31mValueError\u001b[0m: A total of 7 objects could not be loaded. Example error message for object <Conv2DTranspose name=conv2d_transpose_8, built=True>:\n\nThe shape of the target variable and the shape of the target value in `variable.assign(value)` must match. variable.shape=(5, 5, 256, 512), Received: value.shape=(5, 5, 512, 512). Target variable: <Variable path=conv2d_transpose_8/kernel, shape=(5, 5, 256, 512), dtype=float32, value=[[[[ 6.22888282e-03 -1.67163294e-02 -1.67883039e-02 ... -1.24410298e-02\n     1.21840518e-02 -1.53355114e-02]\n   [-4.14511282e-03 -7.46158138e-03 -3.59964836e-03 ... -1.39244553e-02\n    -5.09580690e-03 -6.59135450e-03]\n   [-1.10118557e-02  1.14883259e-02  1.28029268e-02 ... -5.16857766e-03\n    -1.42055284e-02  3.10651027e-03]\n   ...\n   [ 8.94269347e-03 -6.09705225e-04 -1.41174924e-02 ... -6.36001863e-03\n     1.38629228e-04  1.10772550e-02]\n   [-9.46686510e-03  3.12786922e-03  1.17697734e-02 ...  8.03835690e-03\n    -1.39707159e-02  1.66127812e-02]\n   [ 1.26663037e-02  1.19434856e-02  2.83369794e-03 ...  6.91195764e-03\n     1.40834767e-02  2.36195512e-03]]\n\n  [[ 9.59692150e-03  5.66266477e-03  6.96795806e-03 ...  4.06370312e-03\n    -1.50824236e-02  1.62636731e-02]\n   [-1.41491238e-02  8.60641710e-03 -9.78791062e-03 ... -1.37090683e-03\n    -1.55510670e-02  3.69629636e-03]\n   [-8.22192058e-04 -1.28816999e-02 -6.49235118e-03 ... -1.13029294e-02\n    -7.26105552e-03  4.52592224e-03]\n   ...\n   [ 3.08392383e-03 -2.69485265e-03 -1.60417873e-02 ...  1.75634678e-02\n     3.98497283e-03 -1.76545735e-02]\n   [ 4.26241197e-03 -8.49436503e-03  1.73669737e-02 ...  1.87916867e-03\n    -9.92401130e-03  4.67506424e-03]\n   [-4.24764771e-03 -2.74605677e-03 -6.23832829e-03 ... -7.97683373e-04\n    -1.35148298e-02 -1.46880429e-02]]\n\n  [[ 2.80942395e-03  5.86515293e-04 -1.39155751e-02 ... -5.47692832e-03\n    -1.54917911e-02  1.33309048e-02]\n   [ 1.90368108e-03 -1.34456903e-04 -1.06136352e-02 ... -9.92754754e-03\n    -4.15359344e-03  1.76507812e-02]\n   [ 1.16723515e-02  1.17901675e-02  1.42843556e-02 ... -3.55696213e-03\n     1.25300884e-03  9.74367745e-03]\n   ...\n   [ 1.24074426e-02 -5.14444895e-03  1.33222435e-02 ... -5.44857234e-03\n     8.31391662e-03 -1.90419890e-03]\n   [ 8.21228512e-03  1.02539361e-02  9.12768394e-03 ... -1.45323146e-02\n     4.48096544e-04  1.19378790e-03]\n   [-1.19103082e-02  1.04548894e-02 -1.62790306e-02 ...  1.72296297e-02\n     2.98070535e-03 -1.70092639e-02]]\n\n  [[-8.45999829e-03 -8.08657706e-03 -1.35811567e-02 ... -1.72558222e-02\n    -1.44135403e-02 -1.24242846e-02]\n   [ 7.90134631e-03  3.17172334e-03 -7.49085099e-04 ... -1.43098589e-02\n    -1.50211882e-02  7.38754123e-03]\n   [ 1.06156152e-02 -1.66201685e-02 -1.14953890e-02 ... -3.04792076e-03\n    -8.70365649e-04  8.90559517e-03]\n   ...\n   [-1.12940958e-02  1.32322013e-02  1.75481644e-02 ... -1.46450019e-02\n     7.30527565e-03  1.28315911e-02]\n   [ 1.39962602e-02 -1.61472037e-02  1.70595180e-02 ... -8.60423315e-03\n    -4.37700562e-03  6.02224469e-03]\n   [ 1.06812418e-02 -8.01745616e-03 -1.48836169e-02 ... -6.76778518e-03\n     1.57555286e-02  1.59600507e-02]]\n\n  [[-1.05580473e-02  5.31252287e-03 -1.20360320e-02 ... -3.46692000e-03\n     3.16056237e-03 -2.78377440e-03]\n   [-6.01612031e-04 -1.30872168e-02 -1.72929838e-03 ... -1.17614875e-02\n     3.84208560e-03 -1.76672395e-02]\n   [-7.26988073e-03 -1.72354653e-02 -1.16399564e-02 ... -7.61302188e-04\n    -9.30068921e-03  1.82884373e-03]\n   ...\n   [ 7.83880427e-03  9.21325944e-03 -3.42623144e-03 ...  6.31480291e-03\n    -9.26313549e-03 -1.59614086e-02]\n   [-7.31455162e-04  7.33642653e-03 -7.66578317e-03 ... -1.48097249e-02\n     1.40893478e-02 -1.74442902e-02]\n   [-7.52496999e-03  9.35325772e-03  7.83506595e-03 ... -1.56176127e-02\n    -1.55540509e-02 -6.10210001e-04]]]\n\n\n [[[-2.21802853e-03  7.45213591e-03  4.14912589e-03 ... -3.47943325e-03\n     1.46249589e-02  1.28296781e-02]\n   [-4.44128364e-03  1.62170548e-02 -7.66496081e-03 ...  1.57157127e-02\n     1.54944137e-04  1.60132404e-02]\n   [-2.46764719e-03 -1.09765660e-02 -5.22954762e-03 ...  1.74730886e-02\n    -4.42644302e-03 -1.50329173e-02]\n   ...\n   [-1.32867778e-02  1.22453831e-03  7.17563555e-04 ... -1.43076377e-02\n    -1.44937113e-02  1.54421646e-02]\n   [ 6.09231927e-03 -1.17915003e-02 -2.78764311e-03 ... -1.44889075e-02\n     4.68131900e-03 -5.35757653e-03]\n   [-8.46434385e-03 -1.59387384e-02 -1.99685432e-03 ...  1.52994711e-02\n     2.29795091e-03 -1.22559126e-02]]\n\n  [[-6.00200146e-04 -1.87974051e-03  1.45474821e-03 ...  5.23140654e-03\n    -8.45790748e-03 -5.44827711e-03]\n   [ 7.43824989e-03 -4.90785763e-03  1.31909773e-02 ... -8.04883894e-03\n     1.65104512e-02 -1.55673353e-02]\n   [-1.32748205e-02 -1.60309076e-02  5.03164716e-03 ... -7.23441411e-03\n    -4.43199463e-03  1.08464845e-02]\n   ...\n   [ 1.74476784e-02 -6.20461069e-03  7.25732557e-03 ...  2.67952308e-03\n     1.22978520e-02  1.16430633e-02]\n   [-7.78578315e-03 -8.85767024e-03  4.07716446e-03 ...  9.05957073e-03\n    -4.68801986e-03 -6.03896100e-03]\n   [ 3.28447856e-03  9.36015882e-03 -9.43319406e-03 ...  1.62257310e-02\n     1.52428504e-02  3.18147615e-03]]\n\n  [[ 5.23158722e-03  1.35206245e-03 -1.21647436e-02 ... -6.61279447e-03\n     1.37746613e-02 -4.79525328e-03]\n   [-9.83898435e-03  7.15257414e-03  1.80102699e-03 ...  1.33559238e-02\n    -4.83992510e-03 -3.70605662e-03]\n   [-1.38739171e-02 -4.56491299e-03 -3.77763528e-03 ...  6.86165504e-03\n    -1.52550945e-02 -1.45508079e-02]\n   ...\n   [-7.79084116e-03  9.26209986e-03 -8.27370491e-03 ...  2.89680436e-04\n    -8.81334487e-03 -1.59230456e-03]\n   [-7.04358146e-03 -4.12025489e-03  1.17151756e-02 ... -1.33605348e-02\n    -1.36069879e-02 -1.60636492e-02]\n   [ 2.19587237e-03  1.48727242e-02 -1.73047837e-02 ...  7.60519318e-03\n     1.39634032e-02  1.05050597e-02]]\n\n  [[-1.43999690e-02  9.79639404e-03  1.33492947e-02 ...  5.19262627e-03\n    -5.06711379e-03  1.04438700e-03]\n   [ 1.08490158e-02  1.52428094e-02 -1.22386105e-02 ...  1.48792546e-02\n    -1.74786523e-02  5.78805618e-03]\n   [-6.83930051e-03 -3.72802839e-03  8.67578201e-03 ...  1.28159039e-02\n    -2.43752077e-03  7.48089328e-03]\n   ...\n   [ 6.72121719e-03  8.16650502e-03  2.43571214e-03 ... -1.28778275e-02\n     1.68951098e-02  1.10369585e-02]\n   [-5.74689172e-03 -1.32233677e-02 -1.41096953e-02 ... -6.40395284e-03\n     1.02790389e-02 -1.31254010e-02]\n   [-3.21913417e-03 -3.32135707e-03  1.42802726e-02 ... -4.29076888e-03\n     1.48072466e-03  1.45527292e-02]]\n\n  [[ 7.30180368e-03 -5.19413594e-03  9.57320631e-03 ... -9.95605532e-03\n     1.20762866e-02 -1.63462814e-02]\n   [ 1.15452707e-02  1.39790215e-03  4.00247611e-03 ... -1.27873253e-02\n     1.57686137e-03  1.23204105e-03]\n   [-9.91255976e-03  5.35057299e-03 -1.73325092e-02 ...  1.04858540e-02\n    -1.48113985e-02  8.46232846e-03]\n   ...\n   [-2.43263319e-04 -1.35696046e-02 -1.79631636e-03 ...  5.86745329e-03\n     1.25002377e-02  9.35581699e-03]\n   [-8.73311795e-03 -3.44324578e-03  8.04727525e-03 ... -2.11187359e-03\n    -1.26009686e-02 -2.45414767e-03]\n   [ 9.66939330e-03  1.70085076e-02  6.90316968e-03 ...  1.52534898e-02\n     3.89542244e-03 -4.11325414e-03]]]\n\n\n [[[-3.71935405e-03 -1.21969404e-02 -1.29677560e-02 ...  7.24795088e-03\n    -1.74089130e-02  1.42763909e-02]\n   [ 4.08301316e-03 -1.25351222e-02  4.26772237e-03 ...  7.38661550e-03\n    -1.15787350e-02 -5.66518959e-03]\n   [ 3.59968655e-03 -9.05697420e-03  8.17188248e-03 ... -1.67829860e-02\n     1.52431112e-02  9.55598429e-03]\n   ...\n   [-4.17404715e-03  9.14656185e-03 -1.61920153e-02 ... -1.70404818e-02\n     6.41971081e-03 -1.30622573e-02]\n   [-7.86978658e-03  1.68878343e-02 -1.31239090e-02 ...  5.11448644e-03\n     1.18530802e-02  7.04086758e-03]\n   [-5.59095293e-04  7.75825232e-03 -8.93964246e-03 ... -6.50077220e-03\n     6.61086477e-03 -1.04728471e-02]]\n\n  [[-8.92648473e-04 -1.33544747e-02  1.47253592e-02 ... -1.00125112e-02\n     1.44401472e-02  1.27111915e-02]\n   [-9.19067673e-03 -9.54959542e-04  5.46698645e-03 ... -1.61075406e-02\n    -4.05758712e-03  7.45650195e-03]\n   [-1.61400177e-02 -1.59403309e-04 -2.12874077e-03 ... -5.29251527e-03\n     2.41849199e-03  7.99140148e-03]\n   ...\n   [-9.72225424e-03  1.09653380e-02  9.90174152e-03 ...  1.22599546e-02\n    -2.19989289e-03 -1.02464855e-02]\n   [ 1.01978220e-02  9.21593979e-03 -4.99967393e-03 ... -1.50712961e-02\n    -1.34601872e-02  1.19272210e-02]\n   [-1.64940599e-02 -5.85136563e-03  7.15781190e-03 ...  9.77808237e-03\n     1.18150357e-02 -1.55287795e-02]]\n\n  [[ 9.90506634e-03  8.37024301e-03 -1.69524122e-02 ...  6.47321716e-03\n     1.67989042e-02 -1.66642498e-02]\n   [-5.03985677e-03 -1.28602898e-02  9.78030823e-03 ...  1.05549954e-03\n    -5.91359474e-03 -8.49744119e-03]\n   [ 8.00380483e-03  1.25328675e-02  1.43548269e-02 ...  3.43909487e-03\n     1.73718389e-02 -6.04861230e-03]\n   ...\n   [ 1.11257900e-02 -2.92958971e-03  1.42031908e-03 ... -1.62183680e-03\n     1.55659374e-02 -1.72343776e-02]\n   [ 6.40485436e-03  3.94918025e-03  1.00633577e-02 ...  1.08553339e-02\n     8.40762258e-03  1.66553166e-02]\n   [ 2.64086761e-03 -4.70498390e-03  9.84025188e-03 ...  1.12973377e-02\n     1.89753063e-03  1.22745950e-02]]\n\n  [[ 1.74821522e-02 -1.13399848e-02 -1.38657279e-02 ... -5.46593219e-04\n     2.91245244e-03 -4.13512439e-03]\n   [-3.86278797e-03  3.78888845e-03  1.78552233e-03 ...  4.15833853e-03\n     3.36313806e-03 -1.33741945e-02]\n   [ 4.05774266e-03  1.50278769e-03  8.52756202e-05 ...  1.66367237e-02\n     7.91113824e-04 -3.76700517e-03]\n   ...\n   [-1.25777628e-02  8.28677416e-03 -6.95064384e-03 ... -2.69955676e-03\n    -1.66685898e-02  1.32602379e-02]\n   [ 6.55618310e-03  1.13144871e-02  6.19796850e-03 ...  1.14944074e-02\n    -1.62070319e-02  1.45650227e-02]\n   [-1.66615136e-02 -1.55173801e-03  3.46898101e-03 ... -5.11377025e-03\n     1.71548221e-02 -5.42268995e-03]]\n\n  [[ 1.53710525e-02 -1.51097719e-02  2.95621343e-03 ...  3.26578692e-03\n    -1.16992202e-02  4.92290780e-03]\n   [-2.91970186e-03 -4.58109751e-03  1.31453667e-02 ...  4.26047668e-03\n    -1.34753641e-02  3.58461402e-03]\n   [-4.86476626e-03 -5.18488046e-03  1.29392184e-02 ...  4.21736576e-03\n    -1.64912287e-02 -1.34648820e-02]\n   ...\n   [-1.38836820e-02  9.08461027e-03 -1.66528486e-02 ... -1.53236380e-02\n    -5.95927797e-03 -1.39378076e-02]\n   [ 1.68500524e-02  7.80502334e-03 -6.94673508e-05 ... -1.36689954e-02\n     1.38330627e-02  8.16131942e-03]\n   [ 8.55032355e-03 -1.32682081e-02 -1.62381865e-02 ...  5.40265813e-03\n     1.62301380e-02 -1.17539223e-02]]]\n\n\n [[[ 1.63576808e-02 -2.20087450e-03  1.35390554e-02 ...  9.55869444e-03\n     6.75909035e-03 -3.13134864e-04]\n   [ 1.34180486e-02 -1.41187310e-02  1.40089635e-02 ...  1.65483598e-02\n    -1.63675938e-02 -1.90184638e-03]\n   [ 1.61807332e-02 -8.61834362e-03  1.33947209e-02 ...  4.85148653e-03\n    -6.04431331e-03  9.53753293e-03]\n   ...\n   [-1.71344150e-02  8.61715153e-03  3.89773399e-04 ... -1.45703768e-02\n     1.68907437e-02 -1.56186195e-02]\n   [ 1.52080487e-02  1.48066636e-02 -8.35769065e-03 ...  4.73016687e-03\n     1.56209804e-03 -1.13973934e-02]\n   [ 1.55627299e-02 -8.97228438e-03 -1.19834449e-02 ... -7.21868034e-03\n     5.32377511e-03 -1.21542998e-03]]\n\n  [[-1.41661214e-02  6.65352121e-03 -7.03949761e-03 ...  7.24949874e-03\n    -7.44768977e-03  1.00335181e-02]\n   [-6.71613961e-04 -1.28828129e-02  2.88946554e-03 ... -1.10568218e-02\n    -3.30406427e-03  6.83830492e-03]\n   [ 6.20068982e-04 -1.11230724e-02  6.82962313e-03 ... -1.15383789e-02\n    -1.73749588e-02 -1.24522364e-02]\n   ...\n   [-9.46828164e-03  4.46936116e-03 -7.94784632e-03 ... -3.09752766e-03\n     1.73916649e-02  1.04392488e-02]\n   [ 1.19366124e-03  1.09154619e-02  1.00933202e-02 ...  1.19409114e-02\n    -3.17489263e-03 -7.03985989e-03]\n   [-1.64892673e-02  1.46121513e-02  6.68099150e-03 ...  5.71117178e-03\n     2.48508342e-03  3.69508564e-03]]\n\n  [[ 5.21817990e-03 -1.44058820e-02 -1.28706368e-02 ... -9.98352654e-03\n    -2.97350250e-03 -5.76220360e-03]\n   [ 8.05224851e-03  6.30719215e-03  3.78511846e-04 ... -7.27368705e-03\n    -6.87821396e-03 -1.51678678e-02]\n   [-3.06329224e-03  1.53708477e-02 -2.52894126e-03 ...  3.37796472e-03\n    -7.96852354e-03  1.32112671e-02]\n   ...\n   [-4.55459487e-03 -1.13178287e-02 -4.24323976e-03 ...  1.12318434e-03\n    -1.10136000e-02 -1.98242813e-03]\n   [ 1.15090441e-02  2.41622329e-03  1.34508759e-02 ...  1.54927056e-02\n     2.31310353e-03 -1.59411021e-02]\n   [-9.40391514e-03  2.15141103e-03  1.42895617e-03 ... -1.67586915e-02\n     9.67296772e-03 -1.19106071e-02]]\n\n  [[ 1.38706900e-03 -7.90571235e-03 -1.31549509e-02 ...  6.09584153e-03\n     7.51622021e-04  1.19305644e-02]\n   [-1.15578976e-02  1.10197198e-02  8.53874162e-03 ...  1.39921587e-02\n    -1.85417011e-04 -4.05340176e-03]\n   [ 2.63679214e-03  1.63448732e-02 -7.02551287e-03 ... -1.42391957e-03\n    -9.65462998e-04 -3.14633828e-03]\n   ...\n   [-1.45615637e-03  3.12557630e-03  1.13876909e-02 ...  5.29807806e-03\n    -1.63113363e-02  5.69621474e-03]\n   [ 5.65996394e-03 -1.71691813e-02 -1.28000323e-02 ... -6.54330291e-03\n    -1.76018663e-03  1.05680712e-03]\n   [-2.45703384e-04 -7.22771697e-03  3.33109312e-03 ...  1.52875166e-02\n    -1.49771534e-02  5.67168556e-03]]\n\n  [[-2.20162049e-03 -1.18825082e-02  9.73126106e-03 ...  1.20099075e-03\n    -1.27691552e-02 -1.44074922e-02]\n   [-1.37493731e-02 -2.11167522e-03 -2.87615601e-03 ... -1.44429840e-02\n     1.31854899e-02  5.35532273e-03]\n   [ 8.10846314e-03 -5.32841589e-03 -2.40601227e-03 ...  6.63378276e-03\n    -3.19114421e-03  1.34501476e-02]\n   ...\n   [ 1.44843999e-02  1.40817445e-02 -2.05168687e-03 ...  1.41412597e-02\n    -6.71736524e-03 -3.46804503e-03]\n   [ 1.71623100e-02 -1.54029950e-03  6.78144582e-03 ...  1.67572927e-02\n     1.39046330e-02 -2.94416863e-03]\n   [-7.16636423e-03 -1.11569073e-02 -1.39533002e-02 ... -6.90062344e-03\n    -2.84932554e-03 -1.05851097e-02]]]\n\n\n [[[ 3.87098640e-04  1.02592520e-02  3.69774550e-03 ...  1.58166122e-02\n     7.16141611e-03 -4.53222357e-03]\n   [ 1.93406083e-03 -8.65281560e-03 -1.15129771e-02 ... -6.02927990e-03\n     1.69920567e-02 -1.12938220e-02]\n   [-1.40150450e-03  1.39888749e-03  1.38685387e-02 ...  1.19875260e-02\n     1.32861454e-02 -1.70503948e-02]\n   ...\n   [-5.32155856e-03 -1.43972002e-02 -3.57652269e-03 ... -4.31826897e-03\n     1.45428199e-02 -3.83529626e-03]\n   [-4.03646752e-03 -7.43159000e-03  1.40255876e-03 ...  8.08464736e-03\n     3.94108891e-03  1.11038033e-02]\n   [ 8.11578892e-03  2.99130939e-03  1.21990684e-02 ... -1.48614682e-02\n     1.70701351e-02 -1.73043795e-02]]\n\n  [[ 1.10075269e-02  2.02445313e-03 -8.95972922e-03 ... -8.21475405e-03\n    -5.95467165e-04 -5.31429239e-03]\n   [-1.28554851e-02  1.66679341e-02  9.57584940e-03 ... -4.69042175e-03\n     1.68500971e-02  1.03213042e-02]\n   [-9.75269731e-03 -3.74927465e-03 -1.33295227e-02 ...  2.24359520e-03\n     7.43134134e-03 -1.09887375e-02]\n   ...\n   [ 1.28995292e-02 -1.54185696e-02 -3.48120742e-03 ...  1.97446160e-03\n     2.54150480e-03 -1.29582677e-02]\n   [ 1.44423414e-02  9.87732969e-03  1.01383440e-02 ... -8.03051796e-03\n    -1.55975884e-02  9.71539691e-03]\n   [-9.10620205e-03  1.29912365e-02  5.39364293e-03 ... -4.41452023e-03\n     7.56739452e-03  1.86725706e-03]]\n\n  [[ 1.20211449e-02 -1.11774206e-02  4.38570976e-04 ...  2.25956924e-03\n    -6.66160043e-03 -1.22436434e-02]\n   [-3.30640748e-03 -2.48102471e-03 -1.34744793e-02 ... -1.09544937e-02\n     1.21203978e-02 -1.53999235e-02]\n   [ 1.23453680e-02  1.76668782e-02  1.06820222e-02 ... -2.18863972e-03\n    -1.42649747e-03 -1.43113760e-02]\n   ...\n   [ 1.30664427e-02 -1.56375226e-02  1.06082410e-02 ...  9.07156616e-03\n    -2.66842637e-03 -1.15078222e-02]\n   [ 3.32315266e-03  2.12753005e-03 -4.42877412e-03 ... -1.35470089e-02\n     5.33309020e-03  9.70525667e-03]\n   [ 1.36829671e-02  8.98074359e-05 -1.72164850e-03 ... -3.01970821e-03\n    -6.06651232e-03  1.42697245e-04]]\n\n  [[ 1.03083868e-02  1.41850803e-02  8.65584239e-03 ...  1.33926608e-03\n     1.11448541e-02 -2.93546449e-03]\n   [ 7.53501803e-03  5.69628179e-03 -9.90195945e-03 ... -1.72358193e-03\n     1.49210189e-02  1.71208847e-02]\n   [-1.14817172e-04 -1.07441302e-02 -6.37233444e-03 ... -1.75085142e-02\n    -7.11263064e-03 -1.26605183e-02]\n   ...\n   [ 1.25569329e-02  9.64172371e-03  7.92544521e-03 ...  1.18889604e-02\n    -1.68707557e-02 -1.10201035e-02]\n   [ 4.51474078e-03  5.18188439e-03 -9.63497255e-03 ...  2.69502588e-03\n     1.74954962e-02  1.37117691e-03]\n   [ 7.44778663e-03  1.03661027e-02  2.39707716e-03 ...  2.90087424e-03\n    -1.72850508e-02 -1.64437834e-02]]\n\n  [[-3.72678880e-03  1.21167768e-02 -4.74315975e-03 ...  9.00002196e-03\n    -1.30612878e-02  4.74800356e-03]\n   [-6.61507901e-03 -1.44913346e-02  9.73971561e-03 ...  1.68288499e-03\n    -1.71994008e-02  1.44207682e-02]\n   [-1.43900011e-02 -9.22634173e-03  1.58598144e-02 ... -1.07148625e-02\n    -9.02701169e-04 -1.52544500e-02]\n   ...\n   [-1.44138858e-02 -9.95510723e-03 -1.48145761e-02 ...  6.93486817e-03\n     9.92439501e-03  2.23891810e-04]\n   [-1.22230202e-02 -5.11916354e-04 -3.52806691e-03 ... -4.50305361e-03\n    -5.83523978e-03 -4.56066057e-03]\n   [-1.00519937e-02  5.55196591e-03 -5.49891684e-03 ...  5.71322441e-03\n    -1.36770401e-02  1.24108642e-02]]]]>\n\nList of objects that could not be loaded:\n[<Conv2DTranspose name=conv2d_transpose_8, built=True>, <BatchNormalization name=batch_normalization_9, built=True>, <Conv2DTranspose name=conv2d_transpose_9, built=True>, <BatchNormalization name=batch_normalization_10, built=True>, <Conv2DTranspose name=conv2d_transpose_10, built=True>, <BatchNormalization name=batch_normalization_11, built=True>, <Conv2DTranspose name=conv2d_transpose_11, built=True>]",
            "\nDuring handling of the above exception, another exception occurred:\n",
            "\u001b[0;31mRuntimeError\u001b[0m                              Traceback (most recent call last)",
            "\u001b[0;32m<ipython-input-3-f77ab0771b2b>\u001b[0m in \u001b[0;36m<cell line: 0>\u001b[0;34m()\u001b[0m\n\u001b[1;32m     44\u001b[0m     \u001b[0mprint\u001b[0m\u001b[0;34m(\u001b[0m\u001b[0;34m\"✅ Ağırlıklar başarıyla yüklendi!\"\u001b[0m\u001b[0;34m)\u001b[0m\u001b[0;34m\u001b[0m\u001b[0;34m\u001b[0m\u001b[0m\n\u001b[1;32m     45\u001b[0m \u001b[0;32mexcept\u001b[0m \u001b[0mException\u001b[0m \u001b[0;32mas\u001b[0m \u001b[0me\u001b[0m\u001b[0;34m:\u001b[0m\u001b[0;34m\u001b[0m\u001b[0;34m\u001b[0m\u001b[0m\n\u001b[0;32m---> 46\u001b[0;31m     \u001b[0;32mraise\u001b[0m \u001b[0mRuntimeError\u001b[0m\u001b[0;34m(\u001b[0m\u001b[0;34mf\"❌ Ağırlıklar yüklenirken bir hata oluştu: {str(e)}\"\u001b[0m\u001b[0;34m)\u001b[0m\u001b[0;34m\u001b[0m\u001b[0;34m\u001b[0m\u001b[0m\n\u001b[0m\u001b[1;32m     47\u001b[0m \u001b[0;34m\u001b[0m\u001b[0m\n\u001b[1;32m     48\u001b[0m \u001b[0;31m# 📌 **Anime Feature Extractor (DCGAN İçin Optimize Edildi)**\u001b[0m\u001b[0;34m\u001b[0m\u001b[0;34m\u001b[0m\u001b[0m\n",
            "\u001b[0;31mRuntimeError\u001b[0m: ❌ Ağırlıklar yüklenirken bir hata oluştu: A total of 7 objects could not be loaded. Example error message for object <Conv2DTranspose name=conv2d_transpose_8, built=True>:\n\nThe shape of the target variable and the shape of the target value in `variable.assign(value)` must match. variable.shape=(5, 5, 256, 512), Received: value.shape=(5, 5, 512, 512). Target variable: <Variable path=conv2d_transpose_8/kernel, shape=(5, 5, 256, 512), dtype=float32, value=[[[[ 6.22888282e-03 -1.67163294e-02 -1.67883039e-02 ... -1.24410298e-02\n     1.21840518e-02 -1.53355114e-02]\n   [-4.14511282e-03 -7.46158138e-03 -3.59964836e-03 ... -1.39244553e-02\n    -5.09580690e-03 -6.59135450e-03]\n   [-1.10118557e-02  1.14883259e-02  1.28029268e-02 ... -5.16857766e-03\n    -1.42055284e-02  3.10651027e-03]\n   ...\n   [ 8.94269347e-03 -6.09705225e-04 -1.41174924e-02 ... -6.36001863e-03\n     1.38629228e-04  1.10772550e-02]\n   [-9.46686510e-03  3.12786922e-03  1.17697734e-02 ...  8.03835690e-03\n    -1.39707159e-02  1.66127812e-02]\n   [ 1.26663037e-02  1.19434856e-02  2.83369794e-03 ...  6.91195764e-03\n     1.40834767e-02  2.36195512e-03]]\n\n  [[ 9.59692150e-03  5.66266477e-03  6.96795806e-03 ...  4.06370312e-03\n    -1.50824236e-02  1.62636731e-02]\n   [-1.41491238e-02  8.60641710e-03 -9.78791062e-03 ... -1.37090683e-03\n    -1.55510670e-02  3.69629636e-03]\n   [-8.22192058e-04 -1.28816999e-02 -6.49235118e-03 ... -1.13029294e-02\n    -7.26105552e-03  4.52592224e-03]\n   ...\n   [ 3.08392383e-03 -2.69485265e-03 -1.60417873e-02 ...  1.75634678e-02\n     3.98497283e-03 -1.76545735e-02]\n   [ 4.26241197e-03 -8.49436503e-03  1.73669737e-02 ...  1.87916867e-03\n    -9.92401130e-03  4.67506424e-03]\n   [-4.24764771e-03 -2.74605677e-03 -6.23832829e-03 ... -7.97683373e-04\n    -1.35148298e-02 -1.46880429e-02]]\n\n  [[ 2.80942395e-03  5.86515293e-04 -1.39155751e-02 ... -5.47692832e-03\n    -1.54917911e-02  1.33309048e-02]\n   [ 1.90368108e-03 -1.34456903e-04 -1.06136352e-02 ... -9.92754754e-03\n    -4.15359344e-03  1.76507812e-02]\n   [ 1.16723515e-02  1.17901675e-02  1.42843556e-02 ... -3.55696213e-03\n     1.25300884e-03  9.74367745e-03]\n   ...\n   [ 1.24074426e-02 -5.14444895e-03  1.33222435e-02 ... -5.44857234e-03\n     8.31391662e-03 -1.90419890e-03]\n   [ 8.21228512e-03  1.02539361e-02  9.12768394e-03 ... -1.45323146e-02\n     4.48096544e-04  1.19378790e-03]\n   [-1.19103082e-02  1.04548894e-02 -1.62790306e-02 ...  1.72296297e-02\n     2.98070535e-03 -1.70092639e-02]]\n\n  [[-8.45999829e-03 -8.08657706e-03 -1.35811567e-02 ... -1.72558222e-02\n    -1.44135403e-02 -1.24242846e-02]\n   [ 7.90134631e-03  3.17172334e-03 -7.49085099e-04 ... -1.43098589e-02\n    -1.50211882e-02  7.38754123e-03]\n   [ 1.06156152e-02 -1.66201685e-02 -1.14953890e-02 ... -3.04792076e-03\n    -8.70365649e-04  8.90559517e-03]\n   ...\n   [-1.12940958e-02  1.32322013e-02  1.75481644e-02 ... -1.46450019e-02\n     7.30527565e-03  1.28315911e-02]\n   [ 1.39962602e-02 -1.61472037e-02  1.70595180e-02 ... -8.60423315e-03\n    -4.37700562e-03  6.02224469e-03]\n   [ 1.06812418e-02 -8.01745616e-03 -1.48836169e-02 ... -6.76778518e-03\n     1.57555286e-02  1.59600507e-02]]\n\n  [[-1.05580473e-02  5.31252287e-03 -1.20360320e-02 ... -3.46692000e-03\n     3.16056237e-03 -2.78377440e-03]\n   [-6.01612031e-04 -1.30872168e-02 -1.72929838e-03 ... -1.17614875e-02\n     3.84208560e-03 -1.76672395e-02]\n   [-7.26988073e-03 -1.72354653e-02 -1.16399564e-02 ... -7.61302188e-04\n    -9.30068921e-03  1.82884373e-03]\n   ...\n   [ 7.83880427e-03  9.21325944e-03 -3.42623144e-03 ...  6.31480291e-03\n    -9.26313549e-03 -1.59614086e-02]\n   [-7.31455162e-04  7.33642653e-03 -7.66578317e-03 ... -1.48097249e-02\n     1.40893478e-02 -1.74442902e-02]\n   [-7.52496999e-03  9.35325772e-03  7.83506595e-03 ... -1.56176127e-02\n    -1.55540509e-02 -6.10210001e-04]]]\n\n\n [[[-2.21802853e-03  7.45213591e-03  4.14912589e-03 ... -3.47943325e-03\n     1.46249589e-02  1.28296781e-02]\n   [-4.44128364e-03  1.62170548e-02 -7.66496081e-03 ...  1.57157127e-02\n     1.54944137e-04  1.60132404e-02]\n   [-2.46764719e-03 -1.09765660e-02 -5.22954762e-03 ...  1.74730886e-02\n    -4.42644302e-03 -1.50329173e-02]\n   ...\n   [-1.32867778e-02  1.22453831e-03  7.17563555e-04 ... -1.43076377e-02\n    -1.44937113e-02  1.54421646e-02]\n   [ 6.09231927e-03 -1.17915003e-02 -2.78764311e-03 ... -1.44889075e-02\n     4.68131900e-03 -5.35757653e-03]\n   [-8.46434385e-03 -1.59387384e-02 -1.99685432e-03 ...  1.52994711e-02\n     2.29795091e-03 -1.22559126e-02]]\n\n  [[-6.00200146e-04 -1.87974051e-03  1.45474821e-03 ...  5.23140654e-03\n    -8.45790748e-03 -5.44827711e-03]\n   [ 7.43824989e-03 -4.90785763e-03  1.31909773e-02 ... -8.04883894e-03\n     1.65104512e-02 -1.55673353e-02]\n   [-1.32748205e-02 -1.60309076e-02  5.03164716e-03 ... -7.23441411e-03\n    -4.43199463e-03  1.08464845e-02]\n   ...\n   [ 1.74476784e-02 -6.20461069e-03  7.25732557e-03 ...  2.67952308e-03\n     1.22978520e-02  1.16430633e-02]\n   [-7.78578315e-03 -8.85767024e-03  4.07716446e-03 ...  9.05957073e-03\n    -4.68801986e-03 -6.03896100e-03]\n   [ 3.28447856e-03  9.36015882e-03 -9.43319406e-03 ...  1.62257310e-02\n     1.52428504e-02  3.18147615e-03]]\n\n  [[ 5.23158722e-03  1.35206245e-03 -1.21647436e-02 ... -6.61279447e-03\n     1.37746613e-02 -4.79525328e-03]\n   [-9.83898435e-03  7.15257414e-03  1.80102699e-03 ...  1.33559238e-02\n    -4.83992510e-03 -3.70605662e-03]\n   [-1.38739171e-02 -4.56491299e-03 -3.77763528e-03 ...  6.86165504e-03\n    -1.52550945e-02 -1.45508079e-02]\n   ...\n   [-7.79084116e-03  9.26209986e-03 -8.27370491e-03 ...  2.89680436e-04\n    -8.81334487e-03 -1.59230456e-03]\n   [-7.04358146e-03 -4.12025489e-03  1.17151756e-02 ... -1.33605348e-02\n    -1.36069879e-02 -1.60636492e-02]\n   [ 2.19587237e-03  1.48727242e-02 -1.73047837e-02 ...  7.60519318e-03\n     1.39634032e-02  1.05050597e-02]]\n\n  [[-1.43999690e-02  9.79639404e-03  1.33492947e-02 ...  5.19262627e-03\n    -5.06711379e-03  1.04438700e-03]\n   [ 1.08490158e-02  1.52428094e-02 -1.22386105e-02 ...  1.48792546e-02\n    -1.74786523e-02  5.78805618e-03]\n   [-6.83930051e-03 -3.72802839e-03  8.67578201e-03 ...  1.28159039e-02\n    -2.43752077e-03  7.48089328e-03]\n   ...\n   [ 6.72121719e-03  8.16650502e-03  2.43571214e-03 ... -1.28778275e-02\n     1.68951098e-02  1.10369585e-02]\n   [-5.74689172e-03 -1.32233677e-02 -1.41096953e-02 ... -6.40395284e-03\n     1.02790389e-02 -1.31254010e-02]\n   [-3.21913417e-03 -3.32135707e-03  1.42802726e-02 ... -4.29076888e-03\n     1.48072466e-03  1.45527292e-02]]\n\n  [[ 7.30180368e-03 -5.19413594e-03  9.57320631e-03 ... -9.95605532e-03\n     1.20762866e-02 -1.63462814e-02]\n   [ 1.15452707e-02  1.39790215e-03  4.00247611e-03 ... -1.27873253e-02\n     1.57686137e-03  1.23204105e-03]\n   [-9.91255976e-03  5.35057299e-03 -1.73325092e-02 ...  1.04858540e-02\n    -1.48113985e-02  8.46232846e-03]\n   ...\n   [-2.43263319e-04 -1.35696046e-02 -1.79631636e-03 ...  5.86745329e-03\n     1.25002377e-02  9.35581699e-03]\n   [-8.73311795e-03 -3.44324578e-03  8.04727525e-03 ... -2.11187359e-03\n    -1.26009686e-02 -2.45414767e-03]\n   [ 9.66939330e-03  1.70085076e-02  6.90316968e-03 ...  1.52534898e-02\n     3.89542244e-03 -4.11325414e-03]]]\n\n\n [[[-3.71935405e-03 -1.21969404e-02 -1.29677560e-02 ...  7.24795088e-03\n    -1.74089130e-02  1.42763909e-02]\n   [ 4.08301316e-03 -1.25351222e-02  4.26772237e-03 ...  7.38661550e-03\n    -1.15787350e-02 -5.66518959e-03]\n   [ 3.59968655e-03 -9.05697420e-03  8.17188248e-03 ... -1.67829860e-02\n     1.52431112e-02  9.55598429e-03]\n   ...\n   [-4.17404715e-03  9.14656185e-03 -1.61920153e-02 ... -1.70404818e-02\n     6.41971081e-03 -1.30622573e-02]\n   [-7.86978658e-03  1.68878343e-02 -1.31239090e-02 ...  5.11448644e-03\n     1.18530802e-02  7.04086758e-03]\n   [-5.59095293e-04  7.75825232e-03 -8.93964246e-03 ... -6.50077220e-03\n     6.61086477e-03 -1.04728471e-02]]\n\n  [[-8.92648473e-04 -1.33544747e-02  1.47253592e-02 ... -1.00125112e-02\n     1.44401472e-02  1.27111915e-02]\n   [-9.19067673e-03 -9.54959542e-04  5.46698645e-03 ... -1.61075406e-02\n    -4.05758712e-03  7.45650195e-03]\n   [-1.61400177e-02 -1.59403309e-04 -2.12874077e-03 ... -5.29251527e-03\n     2.41849199e-03  7.99140148e-03]\n   ...\n   [-9.72225424e-03  1.09653380e-02  9.90174152e-03 ...  1.22599546e-02\n    -2.19989289e-03 -1.02464855e-02]\n   [ 1.01978220e-02  9.21593979e-03 -4.99967393e-03 ... -1.50712961e-02\n    -1.34601872e-02  1.19272210e-02]\n   [-1.64940599e-02 -5.85136563e-03  7.15781190e-03 ...  9.77808237e-03\n     1.18150357e-02 -1.55287795e-02]]\n\n  [[ 9.90506634e-03  8.37024301e-03 -1.69524122e-02 ...  6.47321716e-03\n     1.67989042e-02 -1.66642498e-02]\n   [-5.03985677e-03 -1.28602898e-02  9.78030823e-03 ...  1.05549954e-03\n    -5.91359474e-03 -8.49744119e-03]\n   [ 8.00380483e-03  1.25328675e-02  1.43548269e-02 ...  3.43909487e-03\n     1.73718389e-02 -6.04861230e-03]\n   ...\n   [ 1.11257900e-02 -2.92958971e-03  1.42031908e-03 ... -1.62183680e-03\n     1.55659374e-02 -1.72343776e-02]\n   [ 6.40485436e-03  3.94918025e-03  1.00633577e-02 ...  1.08553339e-02\n     8.40762258e-03  1.66553166e-02]\n   [ 2.64086761e-03 -4.70498390e-03  9.84025188e-03 ...  1.12973377e-02\n     1.89753063e-03  1.22745950e-02]]\n\n  [[ 1.74821522e-02 -1.13399848e-02 -1.38657279e-02 ... -5.46593219e-04\n     2.91245244e-03 -4.13512439e-03]\n   [-3.86278797e-03  3.78888845e-03  1.78552233e-03 ...  4.15833853e-03\n     3.36313806e-03 -1.33741945e-02]\n   [ 4.05774266e-03  1.50278769e-03  8.52756202e-05 ...  1.66367237e-02\n     7.91113824e-04 -3.76700517e-03]\n   ...\n   [-1.25777628e-02  8.28677416e-03 -6.95064384e-03 ... -2.69955676e-03\n    -1.66685898e-02  1.32602379e-02]\n   [ 6.55618310e-03  1.13144871e-02  6.19796850e-03 ...  1.14944074e-02\n    -1.62070319e-02  1.45650227e-02]\n   [-1.66615136e-02 -1.55173801e-03  3.46898101e-03 ... -5.11377025e-03\n     1.71548221e-02 -5.42268995e-03]]\n\n  [[ 1.53710525e-02 -1.51097719e-02  2.95621343e-03 ...  3.26578692e-03\n    -1.16992202e-02  4.92290780e-03]\n   [-2.91970186e-03 -4.58109751e-03  1.31453667e-02 ...  4.26047668e-03\n    -1.34753641e-02  3.58461402e-03]\n   [-4.86476626e-03 -5.18488046e-03  1.29392184e-02 ...  4.21736576e-03\n    -1.64912287e-02 -1.34648820e-02]\n   ...\n   [-1.38836820e-02  9.08461027e-03 -1.66528486e-02 ... -1.53236380e-02\n    -5.95927797e-03 -1.39378076e-02]\n   [ 1.68500524e-02  7.80502334e-03 -6.94673508e-05 ... -1.36689954e-02\n     1.38330627e-02  8.16131942e-03]\n   [ 8.55032355e-03 -1.32682081e-02 -1.62381865e-02 ...  5.40265813e-03\n     1.62301380e-02 -1.17539223e-02]]]\n\n\n [[[ 1.63576808e-02 -2.20087450e-03  1.35390554e-02 ...  9.55869444e-03\n     6.75909035e-03 -3.13134864e-04]\n   [ 1.34180486e-02 -1.41187310e-02  1.40089635e-02 ...  1.65483598e-02\n    -1.63675938e-02 -1.90184638e-03]\n   [ 1.61807332e-02 -8.61834362e-03  1.33947209e-02 ...  4.85148653e-03\n    -6.04431331e-03  9.53753293e-03]\n   ...\n   [-1.71344150e-02  8.61715153e-03  3.89773399e-04 ... -1.45703768e-02\n     1.68907437e-02 -1.56186195e-02]\n   [ 1.52080487e-02  1.48066636e-02 -8.35769065e-03 ...  4.73016687e-03\n     1.56209804e-03 -1.13973934e-02]\n   [ 1.55627299e-02 -8.97228438e-03 -1.19834449e-02 ... -7.21868034e-03\n     5.32377511e-03 -1.21542998e-03]]\n\n  [[-1.41661214e-02  6.65352121e-03 -7.03949761e-03 ...  7.24949874e-03\n    -7.44768977e-03  1.00335181e-02]\n   [-6.71613961e-04 -1.28828129e-02  2.88946554e-03 ... -1.10568218e-02\n    -3.30406427e-03  6.83830492e-03]\n   [ 6.20068982e-04 -1.11230724e-02  6.82962313e-03 ... -1.15383789e-02\n    -1.73749588e-02 -1.24522364e-02]\n   ...\n   [-9.46828164e-03  4.46936116e-03 -7.94784632e-03 ... -3.09752766e-03\n     1.73916649e-02  1.04392488e-02]\n   [ 1.19366124e-03  1.09154619e-02  1.00933202e-02 ...  1.19409114e-02\n    -3.17489263e-03 -7.03985989e-03]\n   [-1.64892673e-02  1.46121513e-02  6.68099150e-03 ...  5.71117178e-03\n     2.48508342e-03  3.69508564e-03]]\n\n  [[ 5.21817990e-03 -1.44058820e-02 -1.28706368e-02 ... -9.98352654e-03\n    -2.97350250e-03 -5.76220360e-03]\n   [ 8.05224851e-03  6.30719215e-03  3.78511846e-04 ... -7.27368705e-03\n    -6.87821396e-03 -1.51678678e-02]\n   [-3.06329224e-03  1.53708477e-02 -2.52894126e-03 ...  3.37796472e-03\n    -7.96852354e-03  1.32112671e-02]\n   ...\n   [-4.55459487e-03 -1.13178287e-02 -4.24323976e-03 ...  1.12318434e-03\n    -1.10136000e-02 -1.98242813e-03]\n   [ 1.15090441e-02  2.41622329e-03  1.34508759e-02 ...  1.54927056e-02\n     2.31310353e-03 -1.59411021e-02]\n   [-9.40391514e-03  2.15141103e-03  1.42895617e-03 ... -1.67586915e-02\n     9.67296772e-03 -1.19106071e-02]]\n\n  [[ 1.38706900e-03 -7.90571235e-03 -1.31549509e-02 ...  6.09584153e-03\n     7.51622021e-04  1.19305644e-02]\n   [-1.15578976e-02  1.10197198e-02  8.53874162e-03 ...  1.39921587e-02\n    -1.85417011e-04 -4.05340176e-03]\n   [ 2.63679214e-03  1.63448732e-02 -7.02551287e-03 ... -1.42391957e-03\n    -9.65462998e-04 -3.14633828e-03]\n   ...\n   [-1.45615637e-03  3.12557630e-03  1.13876909e-02 ...  5.29807806e-03\n    -1.63113363e-02  5.69621474e-03]\n   [ 5.65996394e-03 -1.71691813e-02 -1.28000323e-02 ... -6.54330291e-03\n    -1.76018663e-03  1.05680712e-03]\n   [-2.45703384e-04 -7.22771697e-03  3.33109312e-03 ...  1.52875166e-02\n    -1.49771534e-02  5.67168556e-03]]\n\n  [[-2.20162049e-03 -1.18825082e-02  9.73126106e-03 ...  1.20099075e-03\n    -1.27691552e-02 -1.44074922e-02]\n   [-1.37493731e-02 -2.11167522e-03 -2.87615601e-03 ... -1.44429840e-02\n     1.31854899e-02  5.35532273e-03]\n   [ 8.10846314e-03 -5.32841589e-03 -2.40601227e-03 ...  6.63378276e-03\n    -3.19114421e-03  1.34501476e-02]\n   ...\n   [ 1.44843999e-02  1.40817445e-02 -2.05168687e-03 ...  1.41412597e-02\n    -6.71736524e-03 -3.46804503e-03]\n   [ 1.71623100e-02 -1.54029950e-03  6.78144582e-03 ...  1.67572927e-02\n     1.39046330e-02 -2.94416863e-03]\n   [-7.16636423e-03 -1.11569073e-02 -1.39533002e-02 ... -6.90062344e-03\n    -2.84932554e-03 -1.05851097e-02]]]\n\n\n [[[ 3.87098640e-04  1.02592520e-02  3.69774550e-03 ...  1.58166122e-02\n     7.16141611e-03 -4.53222357e-03]\n   [ 1.93406083e-03 -8.65281560e-03 -1.15129771e-02 ... -6.02927990e-03\n     1.69920567e-02 -1.12938220e-02]\n   [-1.40150450e-03  1.39888749e-03  1.38685387e-02 ...  1.19875260e-02\n     1.32861454e-02 -1.70503948e-02]\n   ...\n   [-5.32155856e-03 -1.43972002e-02 -3.57652269e-03 ... -4.31826897e-03\n     1.45428199e-02 -3.83529626e-03]\n   [-4.03646752e-03 -7.43159000e-03  1.40255876e-03 ...  8.08464736e-03\n     3.94108891e-03  1.11038033e-02]\n   [ 8.11578892e-03  2.99130939e-03  1.21990684e-02 ... -1.48614682e-02\n     1.70701351e-02 -1.73043795e-02]]\n\n  [[ 1.10075269e-02  2.02445313e-03 -8.95972922e-03 ... -8.21475405e-03\n    -5.95467165e-04 -5.31429239e-03]\n   [-1.28554851e-02  1.66679341e-02  9.57584940e-03 ... -4.69042175e-03\n     1.68500971e-02  1.03213042e-02]\n   [-9.75269731e-03 -3.74927465e-03 -1.33295227e-02 ...  2.24359520e-03\n     7.43134134e-03 -1.09887375e-02]\n   ...\n   [ 1.28995292e-02 -1.54185696e-02 -3.48120742e-03 ...  1.97446160e-03\n     2.54150480e-03 -1.29582677e-02]\n   [ 1.44423414e-02  9.87732969e-03  1.01383440e-02 ... -8.03051796e-03\n    -1.55975884e-02  9.71539691e-03]\n   [-9.10620205e-03  1.29912365e-02  5.39364293e-03 ... -4.41452023e-03\n     7.56739452e-03  1.86725706e-03]]\n\n  [[ 1.20211449e-02 -1.11774206e-02  4.38570976e-04 ...  2.25956924e-03\n    -6.66160043e-03 -1.22436434e-02]\n   [-3.30640748e-03 -2.48102471e-03 -1.34744793e-02 ... -1.09544937e-02\n     1.21203978e-02 -1.53999235e-02]\n   [ 1.23453680e-02  1.76668782e-02  1.06820222e-02 ... -2.18863972e-03\n    -1.42649747e-03 -1.43113760e-02]\n   ...\n   [ 1.30664427e-02 -1.56375226e-02  1.06082410e-02 ...  9.07156616e-03\n    -2.66842637e-03 -1.15078222e-02]\n   [ 3.32315266e-03  2.12753005e-03 -4.42877412e-03 ... -1.35470089e-02\n     5.33309020e-03  9.70525667e-03]\n   [ 1.36829671e-02  8.98074359e-05 -1.72164850e-03 ... -3.01970821e-03\n    -6.06651232e-03  1.42697245e-04]]\n\n  [[ 1.03083868e-02  1.41850803e-02  8.65584239e-03 ...  1.33926608e-03\n     1.11448541e-02 -2.93546449e-03]\n   [ 7.53501803e-03  5.69628179e-03 -9.90195945e-03 ... -1.72358193e-03\n     1.49210189e-02  1.71208847e-02]\n   [-1.14817172e-04 -1.07441302e-02 -6.37233444e-03 ... -1.75085142e-02\n    -7.11263064e-03 -1.26605183e-02]\n   ...\n   [ 1.25569329e-02  9.64172371e-03  7.92544521e-03 ...  1.18889604e-02\n    -1.68707557e-02 -1.10201035e-02]\n   [ 4.51474078e-03  5.18188439e-03 -9.63497255e-03 ...  2.69502588e-03\n     1.74954962e-02  1.37117691e-03]\n   [ 7.44778663e-03  1.03661027e-02  2.39707716e-03 ...  2.90087424e-03\n    -1.72850508e-02 -1.64437834e-02]]\n\n  [[-3.72678880e-03  1.21167768e-02 -4.74315975e-03 ...  9.00002196e-03\n    -1.30612878e-02  4.74800356e-03]\n   [-6.61507901e-03 -1.44913346e-02  9.73971561e-03 ...  1.68288499e-03\n    -1.71994008e-02  1.44207682e-02]\n   [-1.43900011e-02 -9.22634173e-03  1.58598144e-02 ... -1.07148625e-02\n    -9.02701169e-04 -1.52544500e-02]\n   ...\n   [-1.44138858e-02 -9.95510723e-03 -1.48145761e-02 ...  6.93486817e-03\n     9.92439501e-03  2.23891810e-04]\n   [-1.22230202e-02 -5.11916354e-04 -3.52806691e-03 ... -4.50305361e-03\n    -5.83523978e-03 -4.56066057e-03]\n   [-1.00519937e-02  5.55196591e-03 -5.49891684e-03 ...  5.71322441e-03\n    -1.36770401e-02  1.24108642e-02]]]]>\n\nList of objects that could not be loaded:\n[<Conv2DTranspose name=conv2d_transpose_8, built=True>, <BatchNormalization name=batch_normalization_9, built=True>, <Conv2DTranspose name=conv2d_transpose_9, built=True>, <BatchNormalization name=batch_normalization_10, built=True>, <Conv2DTranspose name=conv2d_transpose_10, built=True>, <BatchNormalization name=batch_normalization_11, built=True>, <Conv2DTranspose name=conv2d_transpose_11, built=True>]"
          ]
        }
      ],
      "source": [
        "# 📌 Gerekli kütüphaneleri yükle\n",
        "import os\n",
        "import cv2\n",
        "import numpy as np\n",
        "import tensorflow as tf\n",
        "import torch\n",
        "import lpips\n",
        "from tensorflow.keras.applications import VGG19\n",
        "from matplotlib import pyplot as plt\n",
        "\n",
        "# 📌 Google Drive Bağlantısı\n",
        "from google.colab import drive\n",
        "drive.mount('/content/drive', force_remount=True)\n",
        "\n",
        "# 📌 Model ve Dosya Yolları\n",
        "generator_path = \"/content/drive/MyDrive/YapayZeka/GAN/data/5306F_7151M_Dataset/12457_Total/training_results/generator_weights_epoch_50.weights.h5\"\n",
        "latent_vector_path = \"/content/drive/MyDrive/YapayZeka/latent_vector.npy\"\n",
        "input_image_path = \"/content/portrait.jpg\"\n",
        "output_anime_path = \"/content/generated_anime_image.png\"\n",
        "\n",
        "# 📌 DCGAN Generator Modelini Yükleme\n",
        "def build_generator(latent_dim):\n",
        "    noise = tf.keras.Input(shape=(latent_dim,), name=\"generator_noise_input\")\n",
        "    x = tf.keras.layers.Dense(8 * 8 * 512, use_bias=False)(noise)\n",
        "    x = tf.keras.layers.BatchNormalization()(x)\n",
        "    x = tf.keras.layers.LeakyReLU(0.2)(x)\n",
        "    x = tf.keras.layers.Reshape((8, 8, 512))(x)\n",
        "\n",
        "    filters = [256, 128, 64]\n",
        "    for f in filters:\n",
        "        x = tf.keras.layers.Conv2DTranspose(f, kernel_size=5, strides=2, padding=\"same\", use_bias=False)(x)\n",
        "        x = tf.keras.layers.BatchNormalization()(x)\n",
        "        x = tf.keras.layers.LeakyReLU(0.2)(x)\n",
        "\n",
        "    x = tf.keras.layers.Conv2DTranspose(3, kernel_size=5, strides=2, padding=\"same\", activation=\"tanh\")(x)\n",
        "    return tf.keras.Model(noise, x, name=\"generator\")\n",
        "\n",
        "LATENT_DIM = 100\n",
        "generator = build_generator(LATENT_DIM)\n",
        "\n",
        "# 📌 Ağırlıkları Yükle\n",
        "try:\n",
        "    generator.load_weights(generator_path)\n",
        "    print(\"✅ Ağırlıklar başarıyla yüklendi!\")\n",
        "except Exception as e:\n",
        "    raise RuntimeError(f\"❌ Ağırlıklar yüklenirken bir hata oluştu: {str(e)}\")\n",
        "\n",
        "# 📌 **Anime Feature Extractor (DCGAN İçin Optimize Edildi)**\n",
        "def build_feature_extractor():\n",
        "    base_model = VGG19(weights=\"imagenet\", include_top=False)\n",
        "    base_model.trainable = False\n",
        "    selected_layers = [\n",
        "        base_model.get_layer(\"block1_conv2\").output,  # Daha erken katmanları kullanarak anime stiline daha uygun hale getirdik\n",
        "        base_model.get_layer(\"block2_conv2\").output,\n",
        "        base_model.get_layer(\"block3_conv2\").output\n",
        "    ]\n",
        "    return tf.keras.Model(inputs=base_model.input, outputs=selected_layers)\n",
        "\n",
        "feature_extractor = build_feature_extractor()\n",
        "feature_extractor.summary()\n",
        "\n",
        "# 📌 **LPIPS Loss Fonksiyonu**\n",
        "loss_fn = lpips.LPIPS(net='vgg').to(torch.device(\"cuda\"))\n",
        "\n",
        "def compute_lpips_loss(image1, image2):\n",
        "    image1_torch = torch.tensor(image1.numpy()).permute(0, 3, 1, 2).to(torch.float32).to(\"cuda\")\n",
        "    image2_torch = torch.tensor(image2.numpy()).permute(0, 3, 1, 2).to(torch.float32).to(\"cuda\")\n",
        "    lpips_loss = loss_fn(image1_torch, image2_torch).mean()\n",
        "    return lpips_loss\n",
        "\n",
        "# 📌 **Latent Vektör Optimizasyonu**\n",
        "def optimize_latent_vector(generator, target_image, latent_dim, steps=7000, learning_rate=0.00005):\n",
        "    latent_vector = tf.Variable(tf.random.normal(shape=(1, latent_dim), dtype=tf.float32), trainable=True)\n",
        "    optimizer = tf.keras.optimizers.AdamW(learning_rate)\n",
        "\n",
        "    target_features = feature_extractor(tf.image.resize(target_image, (128, 128)))\n",
        "    loss_history = []\n",
        "\n",
        "    for step in range(steps):\n",
        "        with tf.GradientTape() as tape:\n",
        "            generated_image = generator(latent_vector)\n",
        "            generated_features = feature_extractor(tf.image.resize(generated_image, (128, 128)))\n",
        "\n",
        "            perceptual_loss = sum([\n",
        "                tf.reduce_mean(tf.square(tf.stop_gradient(t) - g))\n",
        "                for t, g in zip(target_features, generated_features)\n",
        "            ])\n",
        "\n",
        "            lpips_loss = compute_lpips_loss(tf.image.resize(target_image, (128, 128)), tf.image.resize(generated_image, (128, 128)))\n",
        "            loss = perceptual_loss + 0.3 * lpips_loss  # 🔥 LPIPS ağırlığını düşürdük\n",
        "\n",
        "        grads = tape.gradient(loss, [latent_vector])\n",
        "        optimizer.apply_gradients(zip(grads, [latent_vector]))\n",
        "\n",
        "        loss_history.append(loss.numpy())\n",
        "\n",
        "        if step % 500 == 0:\n",
        "            print(f\"🔥 Adım {step}/{steps}, Kayıp: {loss.numpy()}\")\n",
        "\n",
        "    np.save(latent_vector_path, latent_vector.numpy())  # 🔥 Latent vektörü kaydet\n",
        "    return latent_vector.numpy(), loss_history\n",
        "\n",
        "# 📌 **Görüntü Üretme**\n",
        "def generate_and_save_anime(generator, latent_vector, output_path):\n",
        "    anime_image = generator.predict(latent_vector)\n",
        "    anime_image = (anime_image[0] + 1) * 127.5\n",
        "    anime_image = np.clip(anime_image, 0, 255).astype(np.uint8)\n",
        "\n",
        "    plt.imshow(cv2.cvtColor(anime_image, cv2.COLOR_BGR2RGB))\n",
        "    plt.axis(\"off\")\n",
        "    plt.show()\n",
        "\n",
        "    cv2.imwrite(output_path, cv2.cvtColor(anime_image, cv2.COLOR_RGB2BGR))\n",
        "    print(f\"✅ Anime tarzı görüntü başarıyla kaydedildi: {output_path}\")\n",
        "\n",
        "# 📌 **Sürecin Çalıştırılması**\n",
        "original_image = cv2.imread(input_image_path)\n",
        "if original_image is not None:\n",
        "    print(\"✅ Giriş görüntüsü başarıyla yüklendi.\")\n",
        "    preprocessed_image = (original_image / 127.5) - 1.0\n",
        "    preprocessed_image = tf.expand_dims(preprocessed_image, axis=0)\n",
        "\n",
        "    optimized_latent_vector, loss_history = optimize_latent_vector(generator, preprocessed_image, LATENT_DIM)\n",
        "    generate_and_save_anime(generator, optimized_latent_vector, output_anime_path)\n",
        "else:\n",
        "    print(\"❌ Giriş görüntüsü yüklenemedi.\")\n"
      ]
    }
  ]
}